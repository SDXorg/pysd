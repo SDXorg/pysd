{
 "cells": [
  {
   "cell_type": "code",
   "execution_count": 1,
   "metadata": {
    "pycharm": {
     "name": "#%%\n"
    }
   },
   "outputs": [],
   "source": [
    "import pandas as pd\n",
    "from pysd.translators.vensim.vensim_file import VensimFile\n",
    "from stanify.builders.stan.stan_model import StanVensimModel\n",
    "import numpy as np\n",
    "import cmdstanpy\n",
    "import matplotlib.pyplot as plt\n",
    "%matplotlib inline \n",
    "import random\n",
    "import arviz as az"
   ]
  },
  {
   "cell_type": "markdown",
   "metadata": {
    "pycharm": {
     "name": "#%% md\n"
    }
   },
   "source": [
    "## 1. data2draws: generate and prior predictive check\n",
    "\n",
    "1. Define Data template\n",
    "2. Define Joint distribution p(theta, y)\n",
    "3. Define Approximator"
   ]
  },
  {
   "cell_type": "code",
   "execution_count": 22,
   "metadata": {
    "pycharm": {
     "name": "#%%\n"
    },
    "scrolled": true
   },
   "outputs": [
    {
     "name": "stdout",
     "output_type": "stream",
     "text": [
      "prey-predator_functions.stan already exists in the current working directory. Overwrite? (Y/N):y\n"
     ]
    },
    {
     "name": "stderr",
     "output_type": "stream",
     "text": [
      "19:36:59 - cmdstanpy - INFO - compiling stan file /Users/hyunjimoon/Dropbox/BayesSD/ContinuousCode/explore/stan_files/prey-predator_draws2data.stan to exe file /Users/hyunjimoon/Dropbox/BayesSD/ContinuousCode/explore/stan_files/prey-predator_draws2data\n"
     ]
    },
    {
     "name": "stdout",
     "output_type": "stream",
     "text": [
      "['alpha', 'beta', 'delta', 'gamma', 'sigma', 'predator_obs', 'prey_obs']\n"
     ]
    },
    {
     "name": "stderr",
     "output_type": "stream",
     "text": [
      "19:37:04 - cmdstanpy - INFO - compiled model executable: /Users/hyunjimoon/Dropbox/BayesSD/ContinuousCode/explore/stan_files/prey-predator_draws2data\n",
      "19:37:04 - cmdstanpy - WARNING - Stan compiler has produced 1 warnings:\n",
      "19:37:04 - cmdstanpy - WARNING - \n",
      "--- Translating Stan model to C++ code ---\n",
      "bin/stanc --include-paths=/Users/hyunjimoon/Dropbox/BayesSD/ContinuousCode/explore/stan_files --o=/Users/hyunjimoon/Dropbox/BayesSD/ContinuousCode/explore/stan_files/prey-predator_draws2data.hpp /Users/hyunjimoon/Dropbox/BayesSD/ContinuousCode/explore/stan_files/prey-predator_draws2data.stan\n",
      "Warning in '/Users/hyunjimoon/Dropbox/BayesSD/ContinuousCode/explore/stan_files/prey-predator_draws2data.stan', line 29, column 4: Declaration\n",
      "    of arrays by placing brackets after a variable name is deprecated and\n",
      "    will be removed in Stan 2.32.0. Instead use the array keyword before the\n",
      "    type. This can be changed automatically using the auto-format flag to\n",
      "    stanc\n",
      "\n",
      "--- Compiling, linking C++ code ---\n",
      "clang++ -std=c++1y -Wno-unknown-warning-option -Wno-tautological-compare -Wno-sign-compare -D_REENTRANT -Wno-ignored-attributes      -I stan/lib/stan_math/lib/tbb_2020.3/include    -O3 -I src -I stan/src -I lib/rapidjson_1.1.0/ -I lib/CLI11-1.9.1/ -I stan/lib/stan_math/ -I stan/lib/stan_math/lib/eigen_3.3.9 -I stan/lib/stan_math/lib/boost_1.78.0 -I stan/lib/stan_math/lib/sundials_6.1.1/include -I stan/lib/stan_math/lib/sundials_6.1.1/src/sundials    -DBOOST_DISABLE_ASSERTS          -c -include-pch stan/src/stan/model/model_header.hpp.gch -x c++ -o /Users/hyunjimoon/Dropbox/BayesSD/ContinuousCode/explore/stan_files/prey-predator_draws2data.o /Users/hyunjimoon/Dropbox/BayesSD/ContinuousCode/explore/stan_files/prey-predator_draws2data.hpp\n",
      "clang++ -std=c++1y -Wno-unknown-warning-option -Wno-tautological-compare -Wno-sign-compare -D_REENTRANT -Wno-ignored-attributes      -I stan/lib/stan_math/lib/tbb_2020.3/include    -O3 -I src -I stan/src -I lib/rapidjson_1.1.0/ -I lib/CLI11-1.9.1/ -I stan/lib/stan_math/ -I stan/lib/stan_math/lib/eigen_3.3.9 -I stan/lib/stan_math/lib/boost_1.78.0 -I stan/lib/stan_math/lib/sundials_6.1.1/include -I stan/lib/stan_math/lib/sundials_6.1.1/src/sundials    -DBOOST_DISABLE_ASSERTS                -Wl,-L,\"/Users/hyunjimoon/.cmdstan/cmdstan-2.30.1/stan/lib/stan_math/lib/tbb\" -Wl,-rpath,\"/Users/hyunjimoon/.cmdstan/cmdstan-2.30.1/stan/lib/stan_math/lib/tbb\"      /Users/hyunjimoon/Dropbox/BayesSD/ContinuousCode/explore/stan_files/prey-predator_draws2data.o src/cmdstan/main.o        -Wl,-L,\"/Users/hyunjimoon/.cmdstan/cmdstan-2.30.1/stan/lib/stan_math/lib/tbb\" -Wl,-rpath,\"/Users/hyunjimoon/.cmdstan/cmdstan-2.30.1/stan/lib/stan_math/lib/tbb\"   stan/lib/stan_math/lib/sundials_6.1.1/lib/libsundials_nvecserial.a stan/lib/stan_math/lib/sundials_6.1.1/lib/libsundials_cvodes.a stan/lib/stan_math/lib/sundials_6.1.1/lib/libsundials_idas.a stan/lib/stan_math/lib/sundials_6.1.1/lib/libsundials_kinsol.a  stan/lib/stan_math/lib/tbb/libtbb.dylib stan/lib/stan_math/lib/tbb/libtbbmalloc.dylib stan/lib/stan_math/lib/tbb/libtbbmalloc_proxy.dylib -o /Users/hyunjimoon/Dropbox/BayesSD/ContinuousCode/explore/stan_files/prey-predator_draws2data\n",
      "rm -f /Users/hyunjimoon/Dropbox/BayesSD/ContinuousCode/explore/stan_files/prey-predator_draws2data.o\n",
      "\n",
      "19:37:05 - cmdstanpy - INFO - CmdStan start processing\n"
     ]
    },
    {
     "data": {
      "application/vnd.jupyter.widget-view+json": {
       "model_id": "347d4438467042c1acb00f5c246eaf3f",
       "version_major": 2,
       "version_minor": 0
      },
      "text/plain": [
       "chain 1 |          | 00:00 Status"
      ]
     },
     "metadata": {},
     "output_type": "display_data"
    },
    {
     "name": "stdout",
     "output_type": "stream",
     "text": [
      "                                                                                "
     ]
    },
    {
     "name": "stderr",
     "output_type": "stream",
     "text": [
      "19:37:05 - cmdstanpy - INFO - CmdStan done processing.\n"
     ]
    },
    {
     "name": "stdout",
     "output_type": "stream",
     "text": [
      "\n"
     ]
    }
   ],
   "source": [
    "random.seed(100)\n",
    "\n",
    "obs_stock_df = pd.read_csv('data/hudson-bay-lynx-hare.csv')\n",
    "vf = VensimFile(\"vensim_models/prey-predator/prey-predator.mdl\")\n",
    "vf.parse()\n",
    "am = vf.get_abstract_model()\n",
    "\n",
    "# 1. D\n",
    "n_t = obs_stock_df.shape[0] - 1\n",
    "data_draws2data = {\n",
    "    \"n_t\": n_t,\n",
    "    \"predator_obs\":  obs_stock_df.loc[1:, 'Predator'].values.tolist(),\n",
    "    \"prey_obs\": obs_stock_df.loc[1:, 'Prey'].values.tolist(),\n",
    "}\n",
    "\n",
    "# 2. P\n",
    "model = StanVensimModel(\"prey-predator\", am, 0.0, list(range(1, n_t + 1)), data_dict = data_draws2data)\n",
    "\n",
    "## a. set_prior_var\n",
    "### 1) ode parameter prior\n",
    "model.set_prior(\"alpha\", \"normal\", 0.8, 0.1)\n",
    "model.set_prior(\"beta\", \"normal\", 0.05, 0.001)\n",
    "model.set_prior(\"delta\", \"normal\", 0.05, 0.001)\n",
    "model.set_prior(\"gamma\", \"normal\", 0.8, 0.1)\n",
    "\n",
    "# experiment with different values\n",
    "# model.set_prior(\"alpha\", \"normal\", 0.55, 0.1)\n",
    "# model.set_prior(\"beta\", \"normal\", 0.028, 0.001)\n",
    "# model.set_prior(\"delta\", \"normal\", 0.024, 0.001)\n",
    "# model.set_prior(\"gamma\", \"normal\", 0.8, 0.1)\n",
    "\n",
    "### 2) sampling distribution parameter (measruement error) prior\n",
    "model.set_prior(\"sigma\", \"lognormal\", np.log(0.001), 0.001)\n",
    "\n",
    "### 3)  measurement \\tilde{y}_{1..t} ~ f(\\theta, t)_{1..t}\n",
    "model.set_prior(\"predator_obs\", \"lognormal\", \"predator\", \"sigma\")\n",
    "model.set_prior(\"prey_obs\", \"lognormal\", \"prey\", \"sigma\")\n",
    "\n",
    "## b. set_prior_struc\n",
    "model.build_stan_functions()\n",
    "\n",
    "## c. set_prior_demand #TODO\n",
    "\n",
    "## a + b + c\n",
    "model.stanify_draws2data()\n",
    "\n",
    "# 1+2. P(D)\n",
    "draws2data_model = cmdstanpy.CmdStanModel(stan_file=\"stan_files/prey-predator_draws2data.stan\")\n",
    "\n",
    "# 3. A(P(D))\n",
    "prior_pred = draws2data_model.sample(data=data_draws2data, fixed_param=True)"
   ]
  },
  {
   "cell_type": "markdown",
   "metadata": {},
   "source": [
    "## Compare prior predictions with real data"
   ]
  },
  {
   "attachments": {},
   "cell_type": "markdown",
   "metadata": {},
   "source": [
    "Table shows the sampled prior values and the generated stock variables (target simulated measured)."
   ]
  },
  {
   "cell_type": "code",
   "execution_count": 23,
   "metadata": {
    "scrolled": true
   },
   "outputs": [
    {
     "data": {
      "text/html": [
       "<div>\n",
       "<style scoped>\n",
       "    .dataframe tbody tr th:only-of-type {\n",
       "        vertical-align: middle;\n",
       "    }\n",
       "\n",
       "    .dataframe tbody tr th {\n",
       "        vertical-align: top;\n",
       "    }\n",
       "\n",
       "    .dataframe thead th {\n",
       "        text-align: right;\n",
       "    }\n",
       "</style>\n",
       "<table border=\"1\" class=\"dataframe\">\n",
       "  <thead>\n",
       "    <tr style=\"text-align: right;\">\n",
       "      <th></th>\n",
       "      <th>Mean</th>\n",
       "      <th>MCSE</th>\n",
       "      <th>StdDev</th>\n",
       "      <th>5%</th>\n",
       "      <th>50%</th>\n",
       "      <th>95%</th>\n",
       "      <th>N_Eff</th>\n",
       "      <th>N_Eff/s</th>\n",
       "      <th>R_hat</th>\n",
       "    </tr>\n",
       "  </thead>\n",
       "  <tbody>\n",
       "    <tr>\n",
       "      <th>alpha</th>\n",
       "      <td>8.007130e-01</td>\n",
       "      <td>3.015580e-03</td>\n",
       "      <td>1.015970e-01</td>\n",
       "      <td>0.634381</td>\n",
       "      <td>8.013080e-01</td>\n",
       "      <td>9.701210e-01</td>\n",
       "      <td>1135.050</td>\n",
       "      <td>6037.52</td>\n",
       "      <td>0.999037</td>\n",
       "    </tr>\n",
       "    <tr>\n",
       "      <th>beta</th>\n",
       "      <td>5.003440e-02</td>\n",
       "      <td>3.600690e-05</td>\n",
       "      <td>1.005720e-03</td>\n",
       "      <td>0.048360</td>\n",
       "      <td>5.005870e-02</td>\n",
       "      <td>5.168280e-02</td>\n",
       "      <td>780.159</td>\n",
       "      <td>4149.78</td>\n",
       "      <td>0.999358</td>\n",
       "    </tr>\n",
       "    <tr>\n",
       "      <th>delta</th>\n",
       "      <td>5.003150e-02</td>\n",
       "      <td>3.309850e-05</td>\n",
       "      <td>9.968640e-04</td>\n",
       "      <td>0.048362</td>\n",
       "      <td>5.006130e-02</td>\n",
       "      <td>5.166600e-02</td>\n",
       "      <td>907.100</td>\n",
       "      <td>4825.00</td>\n",
       "      <td>0.999081</td>\n",
       "    </tr>\n",
       "    <tr>\n",
       "      <th>gamma</th>\n",
       "      <td>8.007640e-01</td>\n",
       "      <td>3.235840e-03</td>\n",
       "      <td>1.033300e-01</td>\n",
       "      <td>0.637672</td>\n",
       "      <td>8.008460e-01</td>\n",
       "      <td>9.680380e-01</td>\n",
       "      <td>1019.710</td>\n",
       "      <td>5423.96</td>\n",
       "      <td>1.002980</td>\n",
       "    </tr>\n",
       "    <tr>\n",
       "      <th>sigma</th>\n",
       "      <td>9.999980e-04</td>\n",
       "      <td>3.103050e-08</td>\n",
       "      <td>9.826520e-07</td>\n",
       "      <td>0.000998</td>\n",
       "      <td>9.999960e-04</td>\n",
       "      <td>1.001660e-03</td>\n",
       "      <td>1002.810</td>\n",
       "      <td>5334.12</td>\n",
       "      <td>0.999089</td>\n",
       "    </tr>\n",
       "    <tr>\n",
       "      <th>...</th>\n",
       "      <td>...</td>\n",
       "      <td>...</td>\n",
       "      <td>...</td>\n",
       "      <td>...</td>\n",
       "      <td>...</td>\n",
       "      <td>...</td>\n",
       "      <td>...</td>\n",
       "      <td>...</td>\n",
       "      <td>...</td>\n",
       "    </tr>\n",
       "    <tr>\n",
       "      <th>prey_obs[16]</th>\n",
       "      <td>2.523556e+23</td>\n",
       "      <td>1.427397e+23</td>\n",
       "      <td>4.532478e+24</td>\n",
       "      <td>5.890150</td>\n",
       "      <td>2.391560e+03</td>\n",
       "      <td>4.237560e+15</td>\n",
       "      <td>1008.280</td>\n",
       "      <td>5363.20</td>\n",
       "      <td>0.999747</td>\n",
       "    </tr>\n",
       "    <tr>\n",
       "      <th>prey_obs[17]</th>\n",
       "      <td>7.584205e+22</td>\n",
       "      <td>3.809929e+22</td>\n",
       "      <td>1.210792e+24</td>\n",
       "      <td>9.588300</td>\n",
       "      <td>1.336750e+06</td>\n",
       "      <td>4.774900e+20</td>\n",
       "      <td>1009.960</td>\n",
       "      <td>5372.14</td>\n",
       "      <td>1.000200</td>\n",
       "    </tr>\n",
       "    <tr>\n",
       "      <th>prey_obs[18]</th>\n",
       "      <td>2.511688e+22</td>\n",
       "      <td>8.106517e+21</td>\n",
       "      <td>2.589852e+23</td>\n",
       "      <td>30.066700</td>\n",
       "      <td>7.341840e+09</td>\n",
       "      <td>6.552710e+21</td>\n",
       "      <td>1020.660</td>\n",
       "      <td>5429.05</td>\n",
       "      <td>0.999684</td>\n",
       "    </tr>\n",
       "    <tr>\n",
       "      <th>prey_obs[19]</th>\n",
       "      <td>4.809385e+21</td>\n",
       "      <td>2.680713e+21</td>\n",
       "      <td>8.512878e+22</td>\n",
       "      <td>56.774300</td>\n",
       "      <td>1.479390e+11</td>\n",
       "      <td>9.269910e+20</td>\n",
       "      <td>1008.450</td>\n",
       "      <td>5364.07</td>\n",
       "      <td>1.001120</td>\n",
       "    </tr>\n",
       "    <tr>\n",
       "      <th>prey_obs[20]</th>\n",
       "      <td>1.344627e+21</td>\n",
       "      <td>7.791799e+20</td>\n",
       "      <td>2.473762e+22</td>\n",
       "      <td>25.610900</td>\n",
       "      <td>6.158320e+07</td>\n",
       "      <td>6.613120e+19</td>\n",
       "      <td>1007.950</td>\n",
       "      <td>5361.45</td>\n",
       "      <td>1.001420</td>\n",
       "    </tr>\n",
       "  </tbody>\n",
       "</table>\n",
       "<p>129 rows × 9 columns</p>\n",
       "</div>"
      ],
      "text/plain": [
       "                      Mean          MCSE        StdDev         5%  \\\n",
       "alpha         8.007130e-01  3.015580e-03  1.015970e-01   0.634381   \n",
       "beta          5.003440e-02  3.600690e-05  1.005720e-03   0.048360   \n",
       "delta         5.003150e-02  3.309850e-05  9.968640e-04   0.048362   \n",
       "gamma         8.007640e-01  3.235840e-03  1.033300e-01   0.637672   \n",
       "sigma         9.999980e-04  3.103050e-08  9.826520e-07   0.000998   \n",
       "...                    ...           ...           ...        ...   \n",
       "prey_obs[16]  2.523556e+23  1.427397e+23  4.532478e+24   5.890150   \n",
       "prey_obs[17]  7.584205e+22  3.809929e+22  1.210792e+24   9.588300   \n",
       "prey_obs[18]  2.511688e+22  8.106517e+21  2.589852e+23  30.066700   \n",
       "prey_obs[19]  4.809385e+21  2.680713e+21  8.512878e+22  56.774300   \n",
       "prey_obs[20]  1.344627e+21  7.791799e+20  2.473762e+22  25.610900   \n",
       "\n",
       "                       50%           95%     N_Eff  N_Eff/s     R_hat  \n",
       "alpha         8.013080e-01  9.701210e-01  1135.050  6037.52  0.999037  \n",
       "beta          5.005870e-02  5.168280e-02   780.159  4149.78  0.999358  \n",
       "delta         5.006130e-02  5.166600e-02   907.100  4825.00  0.999081  \n",
       "gamma         8.008460e-01  9.680380e-01  1019.710  5423.96  1.002980  \n",
       "sigma         9.999960e-04  1.001660e-03  1002.810  5334.12  0.999089  \n",
       "...                    ...           ...       ...      ...       ...  \n",
       "prey_obs[16]  2.391560e+03  4.237560e+15  1008.280  5363.20  0.999747  \n",
       "prey_obs[17]  1.336750e+06  4.774900e+20  1009.960  5372.14  1.000200  \n",
       "prey_obs[18]  7.341840e+09  6.552710e+21  1020.660  5429.05  0.999684  \n",
       "prey_obs[19]  1.479390e+11  9.269910e+20  1008.450  5364.07  1.001120  \n",
       "prey_obs[20]  6.158320e+07  6.613120e+19  1007.950  5361.45  1.001420  \n",
       "\n",
       "[129 rows x 9 columns]"
      ]
     },
     "execution_count": 23,
     "metadata": {},
     "output_type": "execute_result"
    }
   ],
   "source": [
    "prior_pred.summary()"
   ]
  },
  {
   "cell_type": "markdown",
   "metadata": {},
   "source": [
    "We select the five prior draws and compare the prior predictive values with real data."
   ]
  },
  {
   "cell_type": "code",
   "execution_count": 51,
   "metadata": {},
   "outputs": [
    {
     "data": {
      "text/plain": [
       "<matplotlib.legend.Legend at 0x157fc9d50>"
      ]
     },
     "execution_count": 51,
     "metadata": {},
     "output_type": "execute_result"
    },
    {
     "data": {
      "image/png": "[encoded data removed]",
      "text/plain": [
       "<Figure size 1500x800 with 1 Axes>"
      ]
     },
     "metadata": {},
     "output_type": "display_data"
    }
   ],
   "source": [
    "fig, ax = plt.subplots(figsize=(15, 8))\n",
    "ax.plot(obs_stock_df.loc[:, ['Prey']], label = \"Real_Prey\")\n",
    "ax.plot(obs_stock_df.loc[:, ['Predator']], label = \"Real_Predator\")\n",
    "ax.plot(pd.DataFrame(prior_pred.draws_xr('prey_obs').squeeze(\"chain\").prey_obs[:5,:]))\n",
    "ax.plot(pd.DataFrame(prior_pred.draws_xr('predator_obs').squeeze(\"chain\").predator_obs[:5,:]))\n",
    "ax.legend()"
   ]
  },
  {
   "cell_type": "markdown",
   "metadata": {},
   "source": [
    "Even though we have used the parameter value from the literature, it is hard to get prior value that generate observed data."
   ]
  },
  {
   "cell_type": "markdown",
   "metadata": {
    "pycharm": {
     "name": "#%% md\n"
    }
   },
   "source": [
    "## 2. data2draws: estimation and posterior predictive check"
   ]
  },
  {
   "cell_type": "code",
   "execution_count": 28,
   "metadata": {
    "pycharm": {
     "name": "#%%\n"
    },
    "scrolled": true
   },
   "outputs": [
    {
     "name": "stdout",
     "output_type": "stream",
     "text": [
      "prey-predator_functions.stan already exists in the current working directory. Overwrite? (Y/N):y\n"
     ]
    },
    {
     "name": "stderr",
     "output_type": "stream",
     "text": [
      "19:37:35 - cmdstanpy - INFO - compiling stan file /Users/hyunjimoon/Dropbox/BayesSD/ContinuousCode/explore/stan_files/prey-predator_data2draws.stan to exe file /Users/hyunjimoon/Dropbox/BayesSD/ContinuousCode/explore/stan_files/prey-predator_data2draws\n",
      "19:37:42 - cmdstanpy - INFO - compiled model executable: /Users/hyunjimoon/Dropbox/BayesSD/ContinuousCode/explore/stan_files/prey-predator_data2draws\n",
      "19:37:42 - cmdstanpy - WARNING - Stan compiler has produced 1 warnings:\n",
      "19:37:42 - cmdstanpy - WARNING - \n",
      "--- Translating Stan model to C++ code ---\n",
      "bin/stanc --include-paths=/Users/hyunjimoon/Dropbox/BayesSD/ContinuousCode/explore/stan_files --o=/Users/hyunjimoon/Dropbox/BayesSD/ContinuousCode/explore/stan_files/prey-predator_data2draws.hpp /Users/hyunjimoon/Dropbox/BayesSD/ContinuousCode/explore/stan_files/prey-predator_data2draws.stan\n",
      "Warning in '/Users/hyunjimoon/Dropbox/BayesSD/ContinuousCode/explore/stan_files/prey-predator_data2draws.stan', line 34, column 4: Declaration\n",
      "    of arrays by placing brackets after a variable name is deprecated and\n",
      "    will be removed in Stan 2.32.0. Instead use the array keyword before the\n",
      "    type. This can be changed automatically using the auto-format flag to\n",
      "    stanc\n",
      "\n",
      "--- Compiling, linking C++ code ---\n",
      "clang++ -std=c++1y -Wno-unknown-warning-option -Wno-tautological-compare -Wno-sign-compare -D_REENTRANT -Wno-ignored-attributes      -I stan/lib/stan_math/lib/tbb_2020.3/include    -O3 -I src -I stan/src -I lib/rapidjson_1.1.0/ -I lib/CLI11-1.9.1/ -I stan/lib/stan_math/ -I stan/lib/stan_math/lib/eigen_3.3.9 -I stan/lib/stan_math/lib/boost_1.78.0 -I stan/lib/stan_math/lib/sundials_6.1.1/include -I stan/lib/stan_math/lib/sundials_6.1.1/src/sundials    -DBOOST_DISABLE_ASSERTS          -c -include-pch stan/src/stan/model/model_header.hpp.gch -x c++ -o /Users/hyunjimoon/Dropbox/BayesSD/ContinuousCode/explore/stan_files/prey-predator_data2draws.o /Users/hyunjimoon/Dropbox/BayesSD/ContinuousCode/explore/stan_files/prey-predator_data2draws.hpp\n",
      "clang++ -std=c++1y -Wno-unknown-warning-option -Wno-tautological-compare -Wno-sign-compare -D_REENTRANT -Wno-ignored-attributes      -I stan/lib/stan_math/lib/tbb_2020.3/include    -O3 -I src -I stan/src -I lib/rapidjson_1.1.0/ -I lib/CLI11-1.9.1/ -I stan/lib/stan_math/ -I stan/lib/stan_math/lib/eigen_3.3.9 -I stan/lib/stan_math/lib/boost_1.78.0 -I stan/lib/stan_math/lib/sundials_6.1.1/include -I stan/lib/stan_math/lib/sundials_6.1.1/src/sundials    -DBOOST_DISABLE_ASSERTS                -Wl,-L,\"/Users/hyunjimoon/.cmdstan/cmdstan-2.30.1/stan/lib/stan_math/lib/tbb\" -Wl,-rpath,\"/Users/hyunjimoon/.cmdstan/cmdstan-2.30.1/stan/lib/stan_math/lib/tbb\"      /Users/hyunjimoon/Dropbox/BayesSD/ContinuousCode/explore/stan_files/prey-predator_data2draws.o src/cmdstan/main.o        -Wl,-L,\"/Users/hyunjimoon/.cmdstan/cmdstan-2.30.1/stan/lib/stan_math/lib/tbb\" -Wl,-rpath,\"/Users/hyunjimoon/.cmdstan/cmdstan-2.30.1/stan/lib/stan_math/lib/tbb\"   stan/lib/stan_math/lib/sundials_6.1.1/lib/libsundials_nvecserial.a stan/lib/stan_math/lib/sundials_6.1.1/lib/libsundials_cvodes.a stan/lib/stan_math/lib/sundials_6.1.1/lib/libsundials_idas.a stan/lib/stan_math/lib/sundials_6.1.1/lib/libsundials_kinsol.a  stan/lib/stan_math/lib/tbb/libtbb.dylib stan/lib/stan_math/lib/tbb/libtbbmalloc.dylib stan/lib/stan_math/lib/tbb/libtbbmalloc_proxy.dylib -o /Users/hyunjimoon/Dropbox/BayesSD/ContinuousCode/explore/stan_files/prey-predator_data2draws\n",
      "rm -f /Users/hyunjimoon/Dropbox/BayesSD/ContinuousCode/explore/stan_files/prey-predator_data2draws.o\n",
      "\n",
      "19:37:42 - cmdstanpy - INFO - CmdStan start processing\n"
     ]
    },
    {
     "data": {
      "application/vnd.jupyter.widget-view+json": {
       "model_id": "863c2bbfc7e7479295f97f1016380562",
       "version_major": 2,
       "version_minor": 0
      },
      "text/plain": [
       "chain 1 |          | 00:00 Status"
      ]
     },
     "metadata": {},
     "output_type": "display_data"
    },
    {
     "data": {
      "application/vnd.jupyter.widget-view+json": {
       "model_id": "f8cc139b45e347a587064067b1cd83f9",
       "version_major": 2,
       "version_minor": 0
      },
      "text/plain": [
       "chain 2 |          | 00:00 Status"
      ]
     },
     "metadata": {},
     "output_type": "display_data"
    },
    {
     "data": {
      "application/vnd.jupyter.widget-view+json": {
       "model_id": "44790171a43d4ab19aedf91002dd45ab",
       "version_major": 2,
       "version_minor": 0
      },
      "text/plain": [
       "chain 3 |          | 00:00 Status"
      ]
     },
     "metadata": {},
     "output_type": "display_data"
    },
    {
     "data": {
      "application/vnd.jupyter.widget-view+json": {
       "model_id": "fe6fdb21a63c43bc861cae07a04a9666",
       "version_major": 2,
       "version_minor": 0
      },
      "text/plain": [
       "chain 4 |          | 00:00 Status"
      ]
     },
     "metadata": {},
     "output_type": "display_data"
    },
    {
     "name": "stdout",
     "output_type": "stream",
     "text": [
      "                                                                                                                                                                                                                                                                                                                                "
     ]
    },
    {
     "name": "stderr",
     "output_type": "stream",
     "text": [
      "19:40:31 - cmdstanpy - INFO - CmdStan done processing.\n",
      "19:40:31 - cmdstanpy - WARNING - Non-fatal error during sampling:\n",
      "Exception: lognormal_lpdf: Random variable is -0.0189927, but must be nonnegative! (in '/Users/hyunjimoon/Dropbox/BayesSD/ContinuousCode/explore/stan_files/prey-predator_data2draws.stan', line 44, column 4 to column 47)\n",
      "\tException: lognormal_lpdf: Location parameter[1] is nan, but must be finite! (in '/Users/hyunjimoon/Dropbox/BayesSD/ContinuousCode/explore/stan_files/prey-predator_data2draws.stan', line 45, column 4 to column 46)\n",
      "\tException: ode_rk45:  Failed to integrate to next output time (10) in less than max_num_steps steps (in '/Users/hyunjimoon/Dropbox/BayesSD/ContinuousCode/explore/stan_files/prey-predator_data2draws.stan', line 34, column 4 to column 130)\n",
      "\tException: ode_rk45:  Failed to integrate to next output time (13) in less than max_num_steps steps (in '/Users/hyunjimoon/Dropbox/BayesSD/ContinuousCode/explore/stan_files/prey-predator_data2draws.stan', line 34, column 4 to column 130)\n",
      "\tException: lognormal_lpdf: Location parameter[1] is nan, but must be finite! (in '/Users/hyunjimoon/Dropbox/BayesSD/ContinuousCode/explore/stan_files/prey-predator_data2draws.stan', line 45, column 4 to column 46)\n",
      "\tException: lognormal_lpdf: Random variable is -0.162859, but must be nonnegative! (in '/Users/hyunjimoon/Dropbox/BayesSD/ContinuousCode/explore/stan_files/prey-predator_data2draws.stan', line 44, column 4 to column 47)\n",
      "\tException: lognormal_lpdf: Random variable is -23.1761, but must be nonnegative! (in '/Users/hyunjimoon/Dropbox/BayesSD/ContinuousCode/explore/stan_files/prey-predator_data2draws.stan', line 44, column 4 to column 47)\n",
      "\tException: lognormal_lpdf: Random variable is -23.6648, but must be nonnegative! (in '/Users/hyunjimoon/Dropbox/BayesSD/ContinuousCode/explore/stan_files/prey-predator_data2draws.stan', line 44, column 4 to column 47)\n",
      "\tException: ode_rk45:  Failed to integrate to next output time (1) in less than max_num_steps steps (in '/Users/hyunjimoon/Dropbox/BayesSD/ContinuousCode/explore/stan_files/prey-predator_data2draws.stan', line 34, column 4 to column 130)\n",
      "\tException: ode_rk45:  Failed to integrate to next output time (1) in less than max_num_steps steps (in '/Users/hyunjimoon/Dropbox/BayesSD/ContinuousCode/explore/stan_files/prey-predator_data2draws.stan', line 34, column 4 to column 130)\n",
      "\tException: ode_rk45:  Failed to integrate to next output time (1) in less than max_num_steps steps (in '/Users/hyunjimoon/Dropbox/BayesSD/ContinuousCode/explore/stan_files/prey-predator_data2draws.stan', line 34, column 4 to column 130)\n",
      "\tException: ode_rk45:  Failed to integrate to next output time (1) in less than max_num_steps steps (in '/Users/hyunjimoon/Dropbox/BayesSD/ContinuousCode/explore/stan_files/prey-predator_data2draws.stan', line 34, column 4 to column 130)\n",
      "\tException: ode_rk45:  Failed to integrate to next output time (3) in less than max_num_steps steps (in '/Users/hyunjimoon/Dropbox/BayesSD/ContinuousCode/explore/stan_files/prey-predator_data2draws.stan', line 34, column 4 to column 130)\n",
      "\tException: ode_rk45:  Failed to integrate to next output time (5) in less than max_num_steps steps (in '/Users/hyunjimoon/Dropbox/BayesSD/ContinuousCode/explore/stan_files/prey-predator_data2draws.stan', line 34, column 4 to column 130)\n",
      "\tException: ode_rk45:  Failed to integrate to next output time (7) in less than max_num_steps steps (in '/Users/hyunjimoon/Dropbox/BayesSD/ContinuousCode/explore/stan_files/prey-predator_data2draws.stan', line 34, column 4 to column 130)\n",
      "\tException: ode_rk45:  Failed to integrate to next output time (8) in less than max_num_steps steps (in '/Users/hyunjimoon/Dropbox/BayesSD/ContinuousCode/explore/stan_files/prey-predator_data2draws.stan', line 34, column 4 to column 130)\n",
      "\tException: ode_rk45:  Failed to integrate to next output time (10) in less than max_num_steps steps (in '/Users/hyunjimoon/Dropbox/BayesSD/ContinuousCode/explore/stan_files/prey-predator_data2draws.stan', line 34, column 4 to column 130)\n",
      "\tException: ode_rk45:  Failed to integrate to next output time (10) in less than max_num_steps steps (in '/Users/hyunjimoon/Dropbox/BayesSD/ContinuousCode/explore/stan_files/prey-predator_data2draws.stan', line 34, column 4 to column 130)\n",
      "\tException: lognormal_lpdf: Random variable is -3559.73, but must be nonnegative! (in '/Users/hyunjimoon/Dropbox/BayesSD/ContinuousCode/explore/stan_files/prey-predator_data2draws.stan', line 44, column 4 to column 47)\n",
      "\tException: lognormal_lpdf: Random variable is -70.0241, but must be nonnegative! (in '/Users/hyunjimoon/Dropbox/BayesSD/ContinuousCode/explore/stan_files/prey-predator_data2draws.stan', line 44, column 4 to column 47)\n",
      "\tException: ode_rk45:  Failed to integrate to next output time (8) in less than max_num_steps steps (in '/Users/hyunjimoon/Dropbox/BayesSD/ContinuousCode/explore/stan_files/prey-predator_data2draws.stan', line 34, column 4 to column 130)\n",
      "\tException: ode_rk45:  Failed to integrate to next output time (14) in less than max_num_steps steps (in '/Users/hyunjimoon/Dropbox/BayesSD/ContinuousCode/explore/stan_files/prey-predator_data2draws.stan', line 34, column 4 to column 130)\n",
      "Exception: ode_rk45:  Failed to integrate to next output time (11) in less than max_num_steps steps (in '/Users/hyunjimoon/Dropbox/BayesSD/ContinuousCode/explore/stan_files/prey-predator_data2draws.stan', line 34, column 4 to column 130)\n",
      "\tException: lognormal_lpdf: Random variable is -0.694429, but must be nonnegative! (in '/Users/hyunjimoon/Dropbox/BayesSD/ContinuousCode/explore/stan_files/prey-predator_data2draws.stan', line 44, column 4 to column 47)\n",
      "\tException: ode_rk45:  Failed to integrate to next output time (16) in less than max_num_steps steps (in '/Users/hyunjimoon/Dropbox/BayesSD/ContinuousCode/explore/stan_files/prey-predator_data2draws.stan', line 34, column 4 to column 130)\n",
      "\tException: lognormal_lpdf: Random variable is -119.269, but must be nonnegative! (in '/Users/hyunjimoon/Dropbox/BayesSD/ContinuousCode/explore/stan_files/prey-predator_data2draws.stan', line 44, column 4 to column 47)\n",
      "\tException: lognormal_lpdf: Random variable is -121.445, but must be nonnegative! (in '/Users/hyunjimoon/Dropbox/BayesSD/ContinuousCode/explore/stan_files/prey-predator_data2draws.stan', line 44, column 4 to column 47)\n",
      "\tException: ode_rk45:  Failed to integrate to next output time (1) in less than max_num_steps steps (in '/Users/hyunjimoon/Dropbox/BayesSD/ContinuousCode/explore/stan_files/prey-predator_data2draws.stan', line 34, column 4 to column 130)\n",
      "\tException: ode_rk45:  Failed to integrate to next output time (8) in less than max_num_steps steps (in '/Users/hyunjimoon/Dropbox/BayesSD/ContinuousCode/explore/stan_files/prey-predator_data2draws.stan', line 34, column 4 to column 130)\n",
      "\tException: lognormal_lpdf: Random variable is -0.505307, but must be nonnegative! (in '/Users/hyunjimoon/Dropbox/BayesSD/ContinuousCode/explore/stan_files/prey-predator_data2draws.stan', line 44, column 4 to column 47)\n",
      "\tException: lognormal_lpdf: Random variable is -24874.1, but must be nonnegative! (in '/Users/hyunjimoon/Dropbox/BayesSD/ContinuousCode/explore/stan_files/prey-predator_data2draws.stan', line 44, column 4 to column 47)\n",
      "\tException: lognormal_lpdf: Random variable is -708.793, but must be nonnegative! (in '/Users/hyunjimoon/Dropbox/BayesSD/ContinuousCode/explore/stan_files/prey-predator_data2draws.stan', line 44, column 4 to column 47)\n",
      "\tException: ode_rk45:  Failed to integrate to next output time (1) in less than max_num_steps steps (in '/Users/hyunjimoon/Dropbox/BayesSD/ContinuousCode/explore/stan_files/prey-predator_data2draws.stan', line 34, column 4 to column 130)\n",
      "\tException: lognormal_lpdf: Location parameter[2] is nan, but must be finite! (in '/Users/hyunjimoon/Dropbox/BayesSD/ContinuousCode/explore/stan_files/prey-predator_data2draws.stan', line 45, column 4 to column 46)\n",
      "Exception: lognormal_lpdf: Location parameter[1] is nan, but must be finite! (in '/Users/hyunjimoon/Dropbox/BayesSD/ContinuousCode/explore/stan_files/prey-predator_data2draws.stan', line 45, column 4 to column 46)\n",
      "\tException: lognormal_lpdf: Random variable is -1.52834, but must be nonnegative! (in '/Users/hyunjimoon/Dropbox/BayesSD/ContinuousCode/explore/stan_files/prey-predator_data2draws.stan', line 44, column 4 to column 47)\n",
      "\tException: lognormal_lpdf: Random variable is -1.63778, but must be nonnegative! (in '/Users/hyunjimoon/Dropbox/BayesSD/ContinuousCode/explore/stan_files/prey-predator_data2draws.stan', line 44, column 4 to column 47)\n",
      "\tException: lognormal_lpdf: Location parameter[1] is nan, but must be finite! (in '/Users/hyunjimoon/Dropbox/BayesSD/ContinuousCode/explore/stan_files/prey-predator_data2draws.stan', line 45, column 4 to column 46)\n",
      "\tException: lognormal_lpdf: Location parameter[1] is nan, but must be finite! (in '/Users/hyunjimoon/Dropbox/BayesSD/ContinuousCode/explore/stan_files/prey-predator_data2draws.stan', line 45, column 4 to column 46)\n",
      "\tException: lognormal_lpdf: Location parameter[1] is nan, but must be finite! (in '/Users/hyunjimoon/Dropbox/BayesSD/ContinuousCode/explore/stan_files/prey-predator_data2draws.stan', line 45, column 4 to column 46)\n",
      "\tException: lognormal_lpdf: Location parameter[1] is nan, but must be finite! (in '/Users/hyunjimoon/Dropbox/BayesSD/ContinuousCode/explore/stan_files/prey-predator_data2draws.stan', line 45, column 4 to column 46)\n",
      "\tException: lognormal_lpdf: Location parameter[1] is nan, but must be finite! (in '/Users/hyunjimoon/Dropbox/BayesSD/ContinuousCode/explore/stan_files/prey-predator_data2draws.stan', line 45, column 4 to column 46)\n",
      "\tException: lognormal_lpdf: Location parameter[1] is nan, but must be finite! (in '/Users/hyunjimoon/Dropbox/BayesSD/ContinuousCode/explore/stan_files/prey-predator_data2draws.stan', line 45, column 4 to column 46)\n",
      "\tException: lognormal_lpdf: Location parameter[1] is nan, but must be finite! (in '/Users/hyunjimoon/Dropbox/BayesSD/ContinuousCode/explore/stan_files/prey-predator_data2draws.stan', line 45, column 4 to column 46)\n",
      "Exception: ode_rk45:  Failed to integrate to next output time (7) in less than max_num_steps steps (in '/Users/hyunjimoon/Dropbox/BayesSD/ContinuousCode/explore/stan_files/prey-predator_data2draws.stan', line 34, column 4 to column 130)\n",
      "\tException: lognormal_lpdf: Random variable is -1.1263, but must be nonnegative! (in '/Users/hyunjimoon/Dropbox/BayesSD/ContinuousCode/explore/stan_files/prey-predator_data2draws.stan', line 44, column 4 to column 47)\n",
      "\tException: ode_rk45:  Failed to integrate to next output time (11) in less than max_num_steps steps (in '/Users/hyunjimoon/Dropbox/BayesSD/ContinuousCode/explore/stan_files/prey-predator_data2draws.stan', line 34, column 4 to column 130)\n",
      "\tException: lognormal_lpdf: Random variable is -0.538217, but must be nonnegative! (in '/Users/hyunjimoon/Dropbox/BayesSD/ContinuousCode/explore/stan_files/prey-predator_data2draws.stan', line 44, column 4 to column 47)\n",
      "\tException: lognormal_lpdf: Random variable is -87.7603, but must be nonnegative! (in '/Users/hyunjimoon/Dropbox/BayesSD/ContinuousCode/explore/stan_files/prey-predator_data2draws.stan', line 44, column 4 to column 47)\n",
      "\tException: lognormal_lpdf: Random variable is -86.7737, but must be nonnegative! (in '/Users/hyunjimoon/Dropbox/BayesSD/ContinuousCode/explore/stan_files/prey-predator_data2draws.stan', line 44, column 4 to column 47)\n",
      "\tException: ode_rk45:  Failed to integrate to next output time (1) in less than max_num_steps steps (in '/Users/hyunjimoon/Dropbox/BayesSD/ContinuousCode/explore/stan_files/prey-predator_data2draws.stan', line 34, column 4 to column 130)\n",
      "\tException: ode_rk45:  Failed to integrate to next output time (1) in less than max_num_steps steps (in '/Users/hyunjimoon/Dropbox/BayesSD/ContinuousCode/explore/stan_files/prey-predator_data2draws.stan', line 34, column 4 to column 130)\n",
      "\tException: ode_rk45:  Failed to integrate to next output time (6) in less than max_num_steps steps (in '/Users/hyunjimoon/Dropbox/BayesSD/ContinuousCode/explore/stan_files/prey-predator_data2draws.stan', line 34, column 4 to column 130)\n",
      "\tException: ode_rk45:  Failed to integrate to next output time (15) in less than max_num_steps steps (in '/Users/hyunjimoon/Dropbox/BayesSD/ContinuousCode/explore/stan_files/prey-predator_data2draws.stan', line 34, column 4 to column 130)\n",
      "\tException: lognormal_lpdf: Location parameter[1] is nan, but must be finite! (in '/Users/hyunjimoon/Dropbox/BayesSD/ContinuousCode/explore/stan_files/prey-predator_data2draws.stan', line 45, column 4 to column 46)\n",
      "\tException: lognormal_lpdf: Location parameter[1] is nan, but must be finite! (in '/Users/hyunjimoon/Dropbox/BayesSD/ContinuousCode/explore/stan_files/prey-predator_data2draws.stan', line 45, column 4 to column 46)\n",
      "Consider re-running with show_console=True if the above output is unclear!\n"
     ]
    },
    {
     "name": "stdout",
     "output_type": "stream",
     "text": [
      "\n"
     ]
    }
   ],
   "source": [
    "random.seed(100)\n",
    "\n",
    "# ORDER is important\n",
    "# 1. D\n",
    "n_t = obs_stock_df.shape[0] - 1\n",
    "data_data2draws = {\n",
    "    \"n_obs_state\" : 2,\n",
    "    \"n_t\": n_t,\n",
    "    \"predator_obs\":  obs_stock_df.loc[1:, 'Predator'].values.tolist(),\n",
    "    \"prey_obs\": obs_stock_df.loc[1:, 'Prey'].values.tolist(),\n",
    "}\n",
    "\n",
    "# 2. P\n",
    "model = StanVensimModel(\"prey-predator\", am, 0.0, list(range(1, n_t + 1)), data_dict=data_data2draws)\n",
    "\n",
    "## a. set_prior_var\n",
    "\n",
    "### 1) ode parameter prior\n",
    "model.set_prior(\"alpha\", \"normal\", 0.8, 0.1)\n",
    "model.set_prior(\"beta\", \"normal\", 0.05, 0.001)\n",
    "model.set_prior(\"delta\", \"normal\", 0.05, 0.001)\n",
    "model.set_prior(\"gamma\", \"normal\", 0.8, 0.1)\n",
    "\n",
    "### 2) sampling distribution parameter (measruement error) prior\n",
    "model.set_prior(\"sigma\", \"lognormal\", np.log(0.01), 0.1)\n",
    "\n",
    "### 3)  measurement \\tilde{y}_{1..t} ~ f(\\theta, t)_{1..t}\n",
    "model.set_prior(\"predator_obs\", \"lognormal\", \"predator\", \"sigma\")\n",
    "model.set_prior(\"prey_obs\", \"lognormal\", \"prey\", \"sigma\")\n",
    "\n",
    "## b. set_prior_struc\n",
    "model.build_stan_functions()  \n",
    "\n",
    "## c. set_prior_demand #TODO\n",
    "\n",
    "## a + b + c\n",
    "model.stanify_data2draws()\n",
    "\n",
    "# 1+2. P(D)\n",
    "data2draws_model = cmdstanpy.CmdStanModel(stan_file=\"stan_files/prey-predator_data2draws.stan\")\n",
    "\n",
    "# 3. A(P(D))\n",
    "posterior = data2draws_model.sample(data=data_data2draws)"
   ]
  },
  {
   "attachments": {},
   "cell_type": "markdown",
   "metadata": {},
   "source": [
    "Without lower bound of parameters (as zero), estimated result can be negative, e.g. alpha from the following table."
   ]
  },
  {
   "cell_type": "code",
   "execution_count": 32,
   "metadata": {},
   "outputs": [
    {
     "data": {
      "text/html": [
       "<div>\n",
       "<style scoped>\n",
       "    .dataframe tbody tr th:only-of-type {\n",
       "        vertical-align: middle;\n",
       "    }\n",
       "\n",
       "    .dataframe tbody tr th {\n",
       "        vertical-align: top;\n",
       "    }\n",
       "\n",
       "    .dataframe thead th {\n",
       "        text-align: right;\n",
       "    }\n",
       "</style>\n",
       "<table border=\"1\" class=\"dataframe\">\n",
       "  <thead>\n",
       "    <tr style=\"text-align: right;\">\n",
       "      <th></th>\n",
       "      <th>Mean</th>\n",
       "      <th>MCSE</th>\n",
       "      <th>StdDev</th>\n",
       "      <th>5%</th>\n",
       "      <th>50%</th>\n",
       "      <th>95%</th>\n",
       "      <th>N_Eff</th>\n",
       "      <th>N_Eff/s</th>\n",
       "      <th>R_hat</th>\n",
       "    </tr>\n",
       "  </thead>\n",
       "  <tbody>\n",
       "    <tr>\n",
       "      <th>alpha</th>\n",
       "      <td>-0.501516</td>\n",
       "      <td>0.001117</td>\n",
       "      <td>0.045904</td>\n",
       "      <td>-0.577483</td>\n",
       "      <td>-0.501387</td>\n",
       "      <td>-0.425863</td>\n",
       "      <td>1689.09</td>\n",
       "      <td>150.369</td>\n",
       "      <td>0.999997</td>\n",
       "    </tr>\n",
       "    <tr>\n",
       "      <th>beta</th>\n",
       "      <td>0.050807</td>\n",
       "      <td>0.000015</td>\n",
       "      <td>0.001036</td>\n",
       "      <td>0.049101</td>\n",
       "      <td>0.050822</td>\n",
       "      <td>0.052500</td>\n",
       "      <td>4566.26</td>\n",
       "      <td>406.504</td>\n",
       "      <td>1.000920</td>\n",
       "    </tr>\n",
       "    <tr>\n",
       "      <th>delta</th>\n",
       "      <td>0.049834</td>\n",
       "      <td>0.000014</td>\n",
       "      <td>0.001006</td>\n",
       "      <td>0.048186</td>\n",
       "      <td>0.049834</td>\n",
       "      <td>0.051480</td>\n",
       "      <td>5092.48</td>\n",
       "      <td>453.350</td>\n",
       "      <td>0.999600</td>\n",
       "    </tr>\n",
       "    <tr>\n",
       "      <th>gamma</th>\n",
       "      <td>0.690632</td>\n",
       "      <td>0.001279</td>\n",
       "      <td>0.066815</td>\n",
       "      <td>0.580250</td>\n",
       "      <td>0.689815</td>\n",
       "      <td>0.800841</td>\n",
       "      <td>2729.97</td>\n",
       "      <td>243.031</td>\n",
       "      <td>1.000430</td>\n",
       "    </tr>\n",
       "  </tbody>\n",
       "</table>\n",
       "</div>"
      ],
      "text/plain": [
       "           Mean      MCSE    StdDev        5%       50%       95%    N_Eff  \\\n",
       "alpha -0.501516  0.001117  0.045904 -0.577483 -0.501387 -0.425863  1689.09   \n",
       "beta   0.050807  0.000015  0.001036  0.049101  0.050822  0.052500  4566.26   \n",
       "delta  0.049834  0.000014  0.001006  0.048186  0.049834  0.051480  5092.48   \n",
       "gamma  0.690632  0.001279  0.066815  0.580250  0.689815  0.800841  2729.97   \n",
       "\n",
       "       N_Eff/s     R_hat  \n",
       "alpha  150.369  0.999997  \n",
       "beta   406.504  1.000920  \n",
       "delta  453.350  0.999600  \n",
       "gamma  243.031  1.000430  "
      ]
     },
     "execution_count": 32,
     "metadata": {},
     "output_type": "execute_result"
    }
   ],
   "source": [
    "posterior.summary().loc[('alpha', 'beta', 'delta', 'gamma'),]"
   ]
  },
  {
   "cell_type": "markdown",
   "metadata": {},
   "source": [
    "## loglikelihood and plot posterior predictive"
   ]
  },
  {
   "cell_type": "markdown",
   "metadata": {},
   "source": [
    " Remedy: edit stanfile. We will add three components manually: bounds, log likelihood, posterior predictive values. \n",
    "\n",
    "0. Go to stanfile folder, find file ending with '_data2draws.stan' \n",
    "1. add <lower = 0> to parameters in `parameters` block\n",
    "2. add `generated quantities` block in the end, declare `loglik` and `stock_tilde` you wish to generate with estimated parameter values"
   ]
  },
  {
   "cell_type": "code",
   "execution_count": 34,
   "metadata": {},
   "outputs": [
    {
     "name": "stderr",
     "output_type": "stream",
     "text": [
      "19:41:52 - cmdstanpy - INFO - CmdStan start processing\n"
     ]
    },
    {
     "data": {
      "application/vnd.jupyter.widget-view+json": {
       "model_id": "85e282c4fb824bc9bf1f07138602c173",
       "version_major": 2,
       "version_minor": 0
      },
      "text/plain": [
       "chain 1 |          | 00:00 Status"
      ]
     },
     "metadata": {},
     "output_type": "display_data"
    },
    {
     "data": {
      "application/vnd.jupyter.widget-view+json": {
       "model_id": "9ba8a5d779ab4130bcdad724fd13728d",
       "version_major": 2,
       "version_minor": 0
      },
      "text/plain": [
       "chain 2 |          | 00:00 Status"
      ]
     },
     "metadata": {},
     "output_type": "display_data"
    },
    {
     "data": {
      "application/vnd.jupyter.widget-view+json": {
       "model_id": "32d3bc05a05f4cecb8a2dba5a770a458",
       "version_major": 2,
       "version_minor": 0
      },
      "text/plain": [
       "chain 3 |          | 00:00 Status"
      ]
     },
     "metadata": {},
     "output_type": "display_data"
    },
    {
     "data": {
      "application/vnd.jupyter.widget-view+json": {
       "model_id": "519324c57a204063877539de8385b000",
       "version_major": 2,
       "version_minor": 0
      },
      "text/plain": [
       "chain 4 |          | 00:00 Status"
      ]
     },
     "metadata": {},
     "output_type": "display_data"
    },
    {
     "name": "stdout",
     "output_type": "stream",
     "text": [
      "                                                                                                                                                                                                                                                                                                                                "
     ]
    },
    {
     "name": "stderr",
     "output_type": "stream",
     "text": [
      "19:44:23 - cmdstanpy - INFO - CmdStan done processing.\n",
      "19:44:23 - cmdstanpy - WARNING - Non-fatal error during sampling:\n",
      "Exception: lognormal_lpdf: Location parameter[1] is nan, but must be finite! (in '/Users/hyunjimoon/Dropbox/BayesSD/ContinuousCode/explore/stan_files/prey-predator_data2draws_full.stan', line 45, column 4 to column 46)\n",
      "\tException: lognormal_lpdf: Location parameter[1] is nan, but must be finite! (in '/Users/hyunjimoon/Dropbox/BayesSD/ContinuousCode/explore/stan_files/prey-predator_data2draws_full.stan', line 45, column 4 to column 46)\n",
      "\tException: lognormal_lpdf: Location parameter[1] is nan, but must be finite! (in '/Users/hyunjimoon/Dropbox/BayesSD/ContinuousCode/explore/stan_files/prey-predator_data2draws_full.stan', line 45, column 4 to column 46)\n",
      "\tException: lognormal_lpdf: Location parameter[1] is nan, but must be finite! (in '/Users/hyunjimoon/Dropbox/BayesSD/ContinuousCode/explore/stan_files/prey-predator_data2draws_full.stan', line 45, column 4 to column 46)\n",
      "\tException: lognormal_lpdf: Location parameter[1] is nan, but must be finite! (in '/Users/hyunjimoon/Dropbox/BayesSD/ContinuousCode/explore/stan_files/prey-predator_data2draws_full.stan', line 45, column 4 to column 46)\n",
      "\tException: lognormal_lpdf: Location parameter[1] is nan, but must be finite! (in '/Users/hyunjimoon/Dropbox/BayesSD/ContinuousCode/explore/stan_files/prey-predator_data2draws_full.stan', line 45, column 4 to column 46)\n",
      "\tException: lognormal_lpdf: Location parameter[1] is nan, but must be finite! (in '/Users/hyunjimoon/Dropbox/BayesSD/ContinuousCode/explore/stan_files/prey-predator_data2draws_full.stan', line 45, column 4 to column 46)\n",
      "\tException: lognormal_lpdf: Location parameter[1] is nan, but must be finite! (in '/Users/hyunjimoon/Dropbox/BayesSD/ContinuousCode/explore/stan_files/prey-predator_data2draws_full.stan', line 45, column 4 to column 46)\n",
      "\tException: lognormal_lpdf: Location parameter[1] is nan, but must be finite! (in '/Users/hyunjimoon/Dropbox/BayesSD/ContinuousCode/explore/stan_files/prey-predator_data2draws_full.stan', line 45, column 4 to column 46)\n",
      "\tException: lognormal_lpdf: Location parameter[1] is nan, but must be finite! (in '/Users/hyunjimoon/Dropbox/BayesSD/ContinuousCode/explore/stan_files/prey-predator_data2draws_full.stan', line 45, column 4 to column 46)\n",
      "\tException: lognormal_lpdf: Location parameter[1] is nan, but must be finite! (in '/Users/hyunjimoon/Dropbox/BayesSD/ContinuousCode/explore/stan_files/prey-predator_data2draws_full.stan', line 45, column 4 to column 46)\n",
      "\tException: lognormal_lpdf: Location parameter[1] is nan, but must be finite! (in '/Users/hyunjimoon/Dropbox/BayesSD/ContinuousCode/explore/stan_files/prey-predator_data2draws_full.stan', line 45, column 4 to column 46)\n",
      "\tException: lognormal_lpdf: Location parameter[1] is nan, but must be finite! (in '/Users/hyunjimoon/Dropbox/BayesSD/ContinuousCode/explore/stan_files/prey-predator_data2draws_full.stan', line 45, column 4 to column 46)\n",
      "\tException: lognormal_lpdf: Location parameter[1] is nan, but must be finite! (in '/Users/hyunjimoon/Dropbox/BayesSD/ContinuousCode/explore/stan_files/prey-predator_data2draws_full.stan', line 45, column 4 to column 46)\n",
      "\tException: lognormal_lpdf: Location parameter[1] is nan, but must be finite! (in '/Users/hyunjimoon/Dropbox/BayesSD/ContinuousCode/explore/stan_files/prey-predator_data2draws_full.stan', line 45, column 4 to column 46)\n",
      "\tException: lognormal_lpdf: Location parameter[1] is nan, but must be finite! (in '/Users/hyunjimoon/Dropbox/BayesSD/ContinuousCode/explore/stan_files/prey-predator_data2draws_full.stan', line 45, column 4 to column 46)\n",
      "\tException: lognormal_lpdf: Location parameter[2] is nan, but must be finite! (in '/Users/hyunjimoon/Dropbox/BayesSD/ContinuousCode/explore/stan_files/prey-predator_data2draws_full.stan', line 45, column 4 to column 46)\n",
      "\tException: lognormal_lpdf: Location parameter[3] is nan, but must be finite! (in '/Users/hyunjimoon/Dropbox/BayesSD/ContinuousCode/explore/stan_files/prey-predator_data2draws_full.stan', line 45, column 4 to column 46)\n",
      "Exception: lognormal_lpdf: Location parameter[1] is nan, but must be finite! (in '/Users/hyunjimoon/Dropbox/BayesSD/ContinuousCode/explore/stan_files/prey-predator_data2draws_full.stan', line 45, column 4 to column 46)\n",
      "\tException: lognormal_lpdf: Location parameter[1] is nan, but must be finite! (in '/Users/hyunjimoon/Dropbox/BayesSD/ContinuousCode/explore/stan_files/prey-predator_data2draws_full.stan', line 45, column 4 to column 46)\n",
      "\tException: lognormal_lpdf: Random variable is -1.02187, but must be nonnegative! (in '/Users/hyunjimoon/Dropbox/BayesSD/ContinuousCode/explore/stan_files/prey-predator_data2draws_full.stan', line 44, column 4 to column 47)\n",
      "\tException: lognormal_lpdf: Random variable is -0.668657, but must be nonnegative! (in '/Users/hyunjimoon/Dropbox/BayesSD/ContinuousCode/explore/stan_files/prey-predator_data2draws_full.stan', line 44, column 4 to column 47)\n",
      "\tException: lognormal_lpdf: Random variable is -1.76731, but must be nonnegative! (in '/Users/hyunjimoon/Dropbox/BayesSD/ContinuousCode/explore/stan_files/prey-predator_data2draws_full.stan', line 44, column 4 to column 47)\n",
      "\tException: lognormal_lpdf: Random variable is -0.126457, but must be nonnegative! (in '/Users/hyunjimoon/Dropbox/BayesSD/ContinuousCode/explore/stan_files/prey-predator_data2draws_full.stan', line 44, column 4 to column 47)\n",
      "\tException: lognormal_lpdf: Random variable is -0.17157, but must be nonnegative! (in '/Users/hyunjimoon/Dropbox/BayesSD/ContinuousCode/explore/stan_files/prey-predator_data2draws_full.stan', line 44, column 4 to column 47)\n",
      "\tException: ode_rk45:  Failed to integrate to next output time (16) in less than max_num_steps steps (in '/Users/hyunjimoon/Dropbox/BayesSD/ContinuousCode/explore/stan_files/prey-predator_data2draws_full.stan', line 34, column 4 to column 130)\n",
      "\tException: lognormal_lpdf: Location parameter[1] is nan, but must be finite! (in '/Users/hyunjimoon/Dropbox/BayesSD/ContinuousCode/explore/stan_files/prey-predator_data2draws_full.stan', line 45, column 4 to column 46)\n",
      "\tException: ode_rk45:  Failed to integrate to next output time (17) in less than max_num_steps steps (in '/Users/hyunjimoon/Dropbox/BayesSD/ContinuousCode/explore/stan_files/prey-predator_data2draws_full.stan', line 34, column 4 to column 130)\n",
      "\tException: lognormal_lpdf: Location parameter[1] is nan, but must be finite! (in '/Users/hyunjimoon/Dropbox/BayesSD/ContinuousCode/explore/stan_files/prey-predator_data2draws_full.stan', line 45, column 4 to column 46)\n",
      "\tException: lognormal_lpdf: Random variable is -1.5884, but must be nonnegative! (in '/Users/hyunjimoon/Dropbox/BayesSD/ContinuousCode/explore/stan_files/prey-predator_data2draws_full.stan', line 44, column 4 to column 47)\n",
      "\tException: lognormal_lpdf: Location parameter[1] is nan, but must be finite! (in '/Users/hyunjimoon/Dropbox/BayesSD/ContinuousCode/explore/stan_files/prey-predator_data2draws_full.stan', line 45, column 4 to column 46)\n",
      "\tException: lognormal_lpdf: Location parameter[1] is nan, but must be finite! (in '/Users/hyunjimoon/Dropbox/BayesSD/ContinuousCode/explore/stan_files/prey-predator_data2draws_full.stan', line 45, column 4 to column 46)\n",
      "\tException: lognormal_lpdf: Location parameter[1] is nan, but must be finite! (in '/Users/hyunjimoon/Dropbox/BayesSD/ContinuousCode/explore/stan_files/prey-predator_data2draws_full.stan', line 45, column 4 to column 46)\n",
      "\tException: lognormal_lpdf: Location parameter[1] is nan, but must be finite! (in '/Users/hyunjimoon/Dropbox/BayesSD/ContinuousCode/explore/stan_files/prey-predator_data2draws_full.stan', line 45, column 4 to column 46)\n",
      "\tException: lognormal_lpdf: Location parameter[1] is nan, but must be finite! (in '/Users/hyunjimoon/Dropbox/BayesSD/ContinuousCode/explore/stan_files/prey-predator_data2draws_full.stan', line 45, column 4 to column 46)\n",
      "\tException: lognormal_lpdf: Location parameter[1] is nan, but must be finite! (in '/Users/hyunjimoon/Dropbox/BayesSD/ContinuousCode/explore/stan_files/prey-predator_data2draws_full.stan', line 45, column 4 to column 46)\n",
      "\tException: lognormal_lpdf: Location parameter[1] is nan, but must be finite! (in '/Users/hyunjimoon/Dropbox/BayesSD/ContinuousCode/explore/stan_files/prey-predator_data2draws_full.stan', line 45, column 4 to column 46)\n",
      "\tException: lognormal_lpdf: Location parameter[1] is nan, but must be finite! (in '/Users/hyunjimoon/Dropbox/BayesSD/ContinuousCode/explore/stan_files/prey-predator_data2draws_full.stan', line 45, column 4 to column 46)\n",
      "\tException: lognormal_lpdf: Location parameter[1] is nan, but must be finite! (in '/Users/hyunjimoon/Dropbox/BayesSD/ContinuousCode/explore/stan_files/prey-predator_data2draws_full.stan', line 45, column 4 to column 46)\n",
      "\tException: lognormal_lpdf: Location parameter[1] is nan, but must be finite! (in '/Users/hyunjimoon/Dropbox/BayesSD/ContinuousCode/explore/stan_files/prey-predator_data2draws_full.stan', line 45, column 4 to column 46)\n",
      "\tException: lognormal_lpdf: Location parameter[1] is nan, but must be finite! (in '/Users/hyunjimoon/Dropbox/BayesSD/ContinuousCode/explore/stan_files/prey-predator_data2draws_full.stan', line 45, column 4 to column 46)\n",
      "\tException: lognormal_lpdf: Location parameter[1] is nan, but must be finite! (in '/Users/hyunjimoon/Dropbox/BayesSD/ContinuousCode/explore/stan_files/prey-predator_data2draws_full.stan', line 45, column 4 to column 46)\n",
      "\tException: lognormal_lpdf: Location parameter[1] is nan, but must be finite! (in '/Users/hyunjimoon/Dropbox/BayesSD/ContinuousCode/explore/stan_files/prey-predator_data2draws_full.stan', line 45, column 4 to column 46)\n",
      "\tException: lognormal_lpdf: Location parameter[1] is nan, but must be finite! (in '/Users/hyunjimoon/Dropbox/BayesSD/ContinuousCode/explore/stan_files/prey-predator_data2draws_full.stan', line 45, column 4 to column 46)\n",
      "\tException: lognormal_lpdf: Location parameter[1] is nan, but must be finite! (in '/Users/hyunjimoon/Dropbox/BayesSD/ContinuousCode/explore/stan_files/prey-predator_data2draws_full.stan', line 45, column 4 to column 46)\n",
      "\tException: lognormal_lpdf: Location parameter[1] is nan, but must be finite! (in '/Users/hyunjimoon/Dropbox/BayesSD/ContinuousCode/explore/stan_files/prey-predator_data2draws_full.stan', line 45, column 4 to column 46)\n",
      "\tException: lognormal_lpdf: Location parameter[1] is nan, but must be finite! (in '/Users/hyunjimoon/Dropbox/BayesSD/ContinuousCode/explore/stan_files/prey-predator_data2draws_full.stan', line 45, column 4 to column 46)\n",
      "\tException: lognormal_lpdf: Location parameter[1] is nan, but must be finite! (in '/Users/hyunjimoon/Dropbox/BayesSD/ContinuousCode/explore/stan_files/prey-predator_data2draws_full.stan', line 45, column 4 to column 46)\n",
      "\tException: ode_rk45:  Failed to integrate to next output time (1) in less than max_num_steps steps (in '/Users/hyunjimoon/Dropbox/BayesSD/ContinuousCode/explore/stan_files/prey-predator_data2draws_full.stan', line 34, column 4 to column 130)\n",
      "\tException: ode_rk45:  Failed to integrate to next output time (1) in less than max_num_steps steps (in '/Users/hyunjimoon/Dropbox/BayesSD/ContinuousCode/explore/stan_files/prey-predator_data2draws_full.stan', line 34, column 4 to column 130)\n",
      "\tException: ode_rk45:  Failed to integrate to next output time (1) in less than max_num_steps steps (in '/Users/hyunjimoon/Dropbox/BayesSD/ContinuousCode/explore/stan_files/prey-predator_data2draws_full.stan', line 34, column 4 to column 130)\n",
      "\tException: ode_rk45:  Failed to integrate to next output time (1) in less than max_num_steps steps (in '/Users/hyunjimoon/Dropbox/BayesSD/ContinuousCode/explore/stan_files/prey-predator_data2draws_full.stan', line 34, column 4 to column 130)\n",
      "\tException: ode_rk45:  Failed to integrate to next output time (1) in less than max_num_steps steps (in '/Users/hyunjimoon/Dropbox/BayesSD/ContinuousCode/explore/stan_files/prey-predator_data2draws_full.stan', line 34, column 4 to column 130)\n",
      "\tException: ode_rk45:  Failed to integrate to next output time (1) in less than max_num_steps steps (in '/Users/hyunjimoon/Dropbox/BayesSD/ContinuousCode/explore/stan_files/prey-predator_data2draws_full.stan', line 34, column 4 to column 130)\n",
      "\tException: ode_rk45:  Failed to integrate to next output time (1) in less than max_num_steps steps (in '/Users/hyunjimoon/Dropbox/BayesSD/ContinuousCode/explore/stan_files/prey-predator_data2draws_full.stan', line 34, column 4 to column 130)\n",
      "\tException: ode_rk45:  Failed to integrate to next output time (2) in less than max_num_steps steps (in '/Users/hyunjimoon/Dropbox/BayesSD/ContinuousCode/explore/stan_files/prey-predator_data2draws_full.stan', line 34, column 4 to column 130)\n",
      "\tException: lognormal_lpdf: Location parameter[1] is nan, but must be finite! (in '/Users/hyunjimoon/Dropbox/BayesSD/ContinuousCode/explore/stan_files/prey-predator_data2draws_full.stan', line 45, column 4 to column 46)\n",
      "\tException: lognormal_lpdf: Location parameter[1] is nan, but must be finite! (in '/Users/hyunjimoon/Dropbox/BayesSD/ContinuousCode/explore/stan_files/prey-predator_data2draws_full.stan', line 45, column 4 to column 46)\n",
      "\tException: lognormal_lpdf: Location parameter[1] is nan, but must be finite! (in '/Users/hyunjimoon/Dropbox/BayesSD/ContinuousCode/explore/stan_files/prey-predator_data2draws_full.stan', line 45, column 4 to column 46)\n",
      "\tException: lognormal_lpdf: Location parameter[1] is nan, but must be finite! (in '/Users/hyunjimoon/Dropbox/BayesSD/ContinuousCode/explore/stan_files/prey-predator_data2draws_full.stan', line 45, column 4 to column 46)\n",
      "\tException: lognormal_lpdf: Location parameter[1] is nan, but must be finite! (in '/Users/hyunjimoon/Dropbox/BayesSD/ContinuousCode/explore/stan_files/prey-predator_data2draws_full.stan', line 45, column 4 to column 46)\n",
      "\tException: lognormal_lpdf: Location parameter[1] is nan, but must be finite! (in '/Users/hyunjimoon/Dropbox/BayesSD/ContinuousCode/explore/stan_files/prey-predator_data2draws_full.stan', line 45, column 4 to column 46)\n",
      "\tException: ode_rk45:  Failed to integrate to next output time (1) in less than max_num_steps steps (in '/Users/hyunjimoon/Dropbox/BayesSD/ContinuousCode/explore/stan_files/prey-predator_data2draws_full.stan', line 34, column 4 to column 130)\n",
      "\tException: ode_rk45:  Failed to integrate to next output time (1) in less than max_num_steps steps (in '/Users/hyunjimoon/Dropbox/BayesSD/ContinuousCode/explore/stan_files/prey-predator_data2draws_full.stan', line 34, column 4 to column 130)\n",
      "\tException: lognormal_lpdf: Location parameter[6] is nan, but must be finite! (in '/Users/hyunjimoon/Dropbox/BayesSD/ContinuousCode/explore/stan_files/prey-predator_data2draws_full.stan', line 45, column 4 to column 46)\n",
      "\tException: lognormal_lpdf: Location parameter[3] is nan, but must be finite! (in '/Users/hyunjimoon/Dropbox/BayesSD/ContinuousCode/explore/stan_files/prey-predator_data2draws_full.stan', line 45, column 4 to column 46)\n",
      "Exception: lognormal_lpdf: Location parameter[1] is nan, but must be finite! (in '/Users/hyunjimoon/Dropbox/BayesSD/ContinuousCode/explore/stan_files/prey-predator_data2draws_full.stan', line 45, column 4 to column 46)\n",
      "\tException: lognormal_lpdf: Location parameter[1] is nan, but must be finite! (in '/Users/hyunjimoon/Dropbox/BayesSD/ContinuousCode/explore/stan_files/prey-predator_data2draws_full.stan', line 45, column 4 to column 46)\n",
      "\tException: lognormal_lpdf: Location parameter[1] is nan, but must be finite! (in '/Users/hyunjimoon/Dropbox/BayesSD/ContinuousCode/explore/stan_files/prey-predator_data2draws_full.stan', line 45, column 4 to column 46)\n",
      "\tException: lognormal_lpdf: Location parameter[1] is nan, but must be finite! (in '/Users/hyunjimoon/Dropbox/BayesSD/ContinuousCode/explore/stan_files/prey-predator_data2draws_full.stan', line 45, column 4 to column 46)\n",
      "\tException: lognormal_lpdf: Location parameter[1] is nan, but must be finite! (in '/Users/hyunjimoon/Dropbox/BayesSD/ContinuousCode/explore/stan_files/prey-predator_data2draws_full.stan', line 45, column 4 to column 46)\n",
      "\tException: ode_rk45:  Failed to integrate to next output time (1) in less than max_num_steps steps (in '/Users/hyunjimoon/Dropbox/BayesSD/ContinuousCode/explore/stan_files/prey-predator_data2draws_full.stan', line 34, column 4 to column 130)\n",
      "\tException: ode_rk45:  Failed to integrate to next output time (12) in less than max_num_steps steps (in '/Users/hyunjimoon/Dropbox/BayesSD/ContinuousCode/explore/stan_files/prey-predator_data2draws_full.stan', line 34, column 4 to column 130)\n",
      "\tException: ode_rk45:  Failed to integrate to next output time (6) in less than max_num_steps steps (in '/Users/hyunjimoon/Dropbox/BayesSD/ContinuousCode/explore/stan_files/prey-predator_data2draws_full.stan', line 34, column 4 to column 130)\n",
      "\tException: ode_rk45:  Failed to integrate to next output time (6) in less than max_num_steps steps (in '/Users/hyunjimoon/Dropbox/BayesSD/ContinuousCode/explore/stan_files/prey-predator_data2draws_full.stan', line 34, column 4 to column 130)\n",
      "\tException: ode_rk45:  Failed to integrate to next output time (6) in less than max_num_steps steps (in '/Users/hyunjimoon/Dropbox/BayesSD/ContinuousCode/explore/stan_files/prey-predator_data2draws_full.stan', line 34, column 4 to column 130)\n",
      "\tException: ode_rk45:  Failed to integrate to next output time (7) in less than max_num_steps steps (in '/Users/hyunjimoon/Dropbox/BayesSD/ContinuousCode/explore/stan_files/prey-predator_data2draws_full.stan', line 34, column 4 to column 130)\n",
      "\tException: ode_rk45:  Failed to integrate to next output time (8) in less than max_num_steps steps (in '/Users/hyunjimoon/Dropbox/BayesSD/ContinuousCode/explore/stan_files/prey-predator_data2draws_full.stan', line 34, column 4 to column 130)\n",
      "\tException: lognormal_lpdf: Location parameter[1] is nan, but must be finite! (in '/Users/hyunjimoon/Dropbox/BayesSD/ContinuousCode/explore/stan_files/prey-predator_data2draws_full.stan', line 45, column 4 to column 46)\n",
      "\tException: lognormal_lpdf: Location parameter[1] is nan, but must be finite! (in '/Users/hyunjimoon/Dropbox/BayesSD/ContinuousCode/explore/stan_files/prey-predator_data2draws_full.stan', line 45, column 4 to column 46)\n",
      "\tException: lognormal_lpdf: Location parameter[1] is nan, but must be finite! (in '/Users/hyunjimoon/Dropbox/BayesSD/ContinuousCode/explore/stan_files/prey-predator_data2draws_full.stan', line 45, column 4 to column 46)\n",
      "\tException: ode_rk45:  Failed to integrate to next output time (5) in less than max_num_steps steps (in '/Users/hyunjimoon/Dropbox/BayesSD/ContinuousCode/explore/stan_files/prey-predator_data2draws_full.stan', line 34, column 4 to column 130)\n",
      "\tException: ode_rk45:  Failed to integrate to next output time (9) in less than max_num_steps steps (in '/Users/hyunjimoon/Dropbox/BayesSD/ContinuousCode/explore/stan_files/prey-predator_data2draws_full.stan', line 34, column 4 to column 130)\n",
      "\tException: ode_rk45:  Failed to integrate to next output time (10) in less than max_num_steps steps (in '/Users/hyunjimoon/Dropbox/BayesSD/ContinuousCode/explore/stan_files/prey-predator_data2draws_full.stan', line 34, column 4 to column 130)\n",
      "\tException: ode_rk45:  Failed to integrate to next output time (12) in less than max_num_steps steps (in '/Users/hyunjimoon/Dropbox/BayesSD/ContinuousCode/explore/stan_files/prey-predator_data2draws_full.stan', line 34, column 4 to column 130)\n",
      "\tException: ode_rk45:  Failed to integrate to next output time (10) in less than max_num_steps steps (in '/Users/hyunjimoon/Dropbox/BayesSD/ContinuousCode/explore/stan_files/prey-predator_data2draws_full.stan', line 34, column 4 to column 130)\n",
      "\tException: ode_rk45:  Failed to integrate to next output time (13) in less than max_num_steps steps (in '/Users/hyunjimoon/Dropbox/BayesSD/ContinuousCode/explore/stan_files/prey-predator_data2draws_full.stan', line 34, column 4 to column 130)\n",
      "\tException: ode_rk45:  Failed to integrate to next output time (18) in less than max_num_steps steps (in '/Users/hyunjimoon/Dropbox/BayesSD/ContinuousCode/explore/stan_files/prey-predator_data2draws_full.stan', line 34, column 4 to column 130)\n",
      "\tException: ode_rk45:  Failed to integrate to next output time (16) in less than max_num_steps steps (in '/Users/hyunjimoon/Dropbox/BayesSD/ContinuousCode/explore/stan_files/prey-predator_data2draws_full.stan', line 34, column 4 to column 130)\n",
      "\tException: ode_rk45:  Failed to integrate to next output time (17) in less than max_num_steps steps (in '/Users/hyunjimoon/Dropbox/BayesSD/ContinuousCode/explore/stan_files/prey-predator_data2draws_full.stan', line 34, column 4 to column 130)\n",
      "\tException: ode_rk45:  Failed to integrate to next output time (18) in less than max_num_steps steps (in '/Users/hyunjimoon/Dropbox/BayesSD/ContinuousCode/explore/stan_files/prey-predator_data2draws_full.stan', line 34, column 4 to column 130)\n",
      "\tException: ode_rk45:  Failed to integrate to next output time (20) in less than max_num_steps steps (in '/Users/hyunjimoon/Dropbox/BayesSD/ContinuousCode/explore/stan_files/prey-predator_data2draws_full.stan', line 34, column 4 to column 130)\n",
      "Exception: ode_rk45:  Failed to integrate to next output time (15) in less than max_num_steps steps (in '/Users/hyunjimoon/Dropbox/BayesSD/ContinuousCode/explore/stan_files/prey-predator_data2draws_full.stan', line 34, column 4 to column 130)\n",
      "\tException: ode_rk45:  Failed to integrate to next output time (8) in less than max_num_steps steps (in '/Users/hyunjimoon/Dropbox/BayesSD/ContinuousCode/explore/stan_files/prey-predator_data2draws_full.stan', line 34, column 4 to column 130)\n",
      "\tException: lognormal_lpdf: Location parameter[1] is nan, but must be finite! (in '/Users/hyunjimoon/Dropbox/BayesSD/ContinuousCode/explore/stan_files/prey-predator_data2draws_full.stan', line 45, column 4 to column 46)\n",
      "\tException: lognormal_lpdf: Location parameter[1] is nan, but must be finite! (in '/Users/hyunjimoon/Dropbox/BayesSD/ContinuousCode/explore/stan_files/prey-predator_data2draws_full.stan', line 45, column 4 to column 46)\n",
      "\tException: lognormal_lpdf: Random variable is -3898.94, but must be nonnegative! (in '/Users/hyunjimoon/Dropbox/BayesSD/ContinuousCode/explore/stan_files/prey-predator_data2draws_full.stan', line 44, column 4 to column 47)\n",
      "\tException: lognormal_lpdf: Random variable is -113.318, but must be nonnegative! (in '/Users/hyunjimoon/Dropbox/BayesSD/ContinuousCode/explore/stan_files/prey-predator_data2draws_full.stan', line 44, column 4 to column 47)\n",
      "\tException: ode_rk45:  Failed to integrate to next output time (2) in less than max_num_steps steps (in '/Users/hyunjimoon/Dropbox/BayesSD/ContinuousCode/explore/stan_files/prey-predator_data2draws_full.stan', line 34, column 4 to column 130)\n",
      "\tException: lognormal_lpdf: Location parameter[2] is nan, but must be finite! (in '/Users/hyunjimoon/Dropbox/BayesSD/ContinuousCode/explore/stan_files/prey-predator_data2draws_full.stan', line 45, column 4 to column 46)\n",
      "Consider re-running with show_console=True if the above output is unclear!\n"
     ]
    },
    {
     "name": "stderr",
     "output_type": "stream",
     "text": [
      "19:44:23 - cmdstanpy - WARNING - Some chains may have failed to converge.\n",
      "\tChain 3 had 4 divergent transitions (0.4%)\n",
      "\tChain 3 had 1 iterations at max treedepth (0.1%)\n",
      "\tUse function \"diagnose()\" to see further information.\n"
     ]
    },
    {
     "name": "stdout",
     "output_type": "stream",
     "text": [
      "\n"
     ]
    },
    {
     "data": {
      "text/html": [
       "<div>\n",
       "<style scoped>\n",
       "    .dataframe tbody tr th:only-of-type {\n",
       "        vertical-align: middle;\n",
       "    }\n",
       "\n",
       "    .dataframe tbody tr th {\n",
       "        vertical-align: top;\n",
       "    }\n",
       "\n",
       "    .dataframe thead th {\n",
       "        text-align: right;\n",
       "    }\n",
       "</style>\n",
       "<table border=\"1\" class=\"dataframe\">\n",
       "  <thead>\n",
       "    <tr style=\"text-align: right;\">\n",
       "      <th></th>\n",
       "      <th>Mean</th>\n",
       "      <th>MCSE</th>\n",
       "      <th>StdDev</th>\n",
       "      <th>5%</th>\n",
       "      <th>50%</th>\n",
       "      <th>95%</th>\n",
       "      <th>N_Eff</th>\n",
       "      <th>N_Eff/s</th>\n",
       "      <th>R_hat</th>\n",
       "    </tr>\n",
       "  </thead>\n",
       "  <tbody>\n",
       "    <tr>\n",
       "      <th>alpha</th>\n",
       "      <td>0.101465</td>\n",
       "      <td>0.736660</td>\n",
       "      <td>1.043940</td>\n",
       "      <td>-0.570700</td>\n",
       "      <td>-0.480258</td>\n",
       "      <td>1.908170</td>\n",
       "      <td>2.00824</td>\n",
       "      <td>0.139859</td>\n",
       "      <td>28.35380</td>\n",
       "    </tr>\n",
       "    <tr>\n",
       "      <th>beta</th>\n",
       "      <td>0.295267</td>\n",
       "      <td>0.299004</td>\n",
       "      <td>0.423631</td>\n",
       "      <td>0.049357</td>\n",
       "      <td>0.051258</td>\n",
       "      <td>1.043160</td>\n",
       "      <td>2.00735</td>\n",
       "      <td>0.139797</td>\n",
       "      <td>54.00640</td>\n",
       "    </tr>\n",
       "    <tr>\n",
       "      <th>delta</th>\n",
       "      <td>0.027669</td>\n",
       "      <td>0.027104</td>\n",
       "      <td>0.038407</td>\n",
       "      <td>-0.039973</td>\n",
       "      <td>0.049391</td>\n",
       "      <td>0.051389</td>\n",
       "      <td>2.00788</td>\n",
       "      <td>0.139834</td>\n",
       "      <td>36.81500</td>\n",
       "    </tr>\n",
       "    <tr>\n",
       "      <th>gamma</th>\n",
       "      <td>0.483299</td>\n",
       "      <td>0.252355</td>\n",
       "      <td>0.361095</td>\n",
       "      <td>-0.134067</td>\n",
       "      <td>0.658294</td>\n",
       "      <td>0.791757</td>\n",
       "      <td>2.04748</td>\n",
       "      <td>0.142592</td>\n",
       "      <td>6.65533</td>\n",
       "    </tr>\n",
       "  </tbody>\n",
       "</table>\n",
       "</div>"
      ],
      "text/plain": [
       "           Mean      MCSE    StdDev        5%       50%       95%    N_Eff  \\\n",
       "alpha  0.101465  0.736660  1.043940 -0.570700 -0.480258  1.908170  2.00824   \n",
       "beta   0.295267  0.299004  0.423631  0.049357  0.051258  1.043160  2.00735   \n",
       "delta  0.027669  0.027104  0.038407 -0.039973  0.049391  0.051389  2.00788   \n",
       "gamma  0.483299  0.252355  0.361095 -0.134067  0.658294  0.791757  2.04748   \n",
       "\n",
       "        N_Eff/s     R_hat  \n",
       "alpha  0.139859  28.35380  \n",
       "beta   0.139797  54.00640  \n",
       "delta  0.139834  36.81500  \n",
       "gamma  0.142592   6.65533  "
      ]
     },
     "execution_count": 34,
     "metadata": {},
     "output_type": "execute_result"
    }
   ],
   "source": [
    "random.seed(100)\n",
    "# 1+2. P(D)\n",
    "data2draws_model_full = cmdstanpy.CmdStanModel(stan_file=\"stan_files/prey-predator_data2draws_full.stan\")\n",
    "\n",
    "# 3. A(P(D))\n",
    "posterior_full = data2draws_model_full.sample(data=data_data2draws)"
   ]
  },
  {
   "cell_type": "code",
   "execution_count": 43,
   "metadata": {},
   "outputs": [
    {
     "data": {
      "text/html": [
       "<div>\n",
       "<style scoped>\n",
       "    .dataframe tbody tr th:only-of-type {\n",
       "        vertical-align: middle;\n",
       "    }\n",
       "\n",
       "    .dataframe tbody tr th {\n",
       "        vertical-align: top;\n",
       "    }\n",
       "\n",
       "    .dataframe thead th {\n",
       "        text-align: right;\n",
       "    }\n",
       "</style>\n",
       "<table border=\"1\" class=\"dataframe\">\n",
       "  <thead>\n",
       "    <tr style=\"text-align: right;\">\n",
       "      <th></th>\n",
       "      <th>Mean</th>\n",
       "      <th>MCSE</th>\n",
       "      <th>StdDev</th>\n",
       "      <th>5%</th>\n",
       "      <th>50%</th>\n",
       "      <th>95%</th>\n",
       "      <th>N_Eff</th>\n",
       "      <th>N_Eff/s</th>\n",
       "      <th>R_hat</th>\n",
       "    </tr>\n",
       "  </thead>\n",
       "  <tbody>\n",
       "    <tr>\n",
       "      <th>alpha</th>\n",
       "      <td>0.101465</td>\n",
       "      <td>0.736660</td>\n",
       "      <td>1.043940</td>\n",
       "      <td>-0.570700</td>\n",
       "      <td>-0.480258</td>\n",
       "      <td>1.908170</td>\n",
       "      <td>2.00824</td>\n",
       "      <td>0.139859</td>\n",
       "      <td>28.35380</td>\n",
       "    </tr>\n",
       "    <tr>\n",
       "      <th>beta</th>\n",
       "      <td>0.295267</td>\n",
       "      <td>0.299004</td>\n",
       "      <td>0.423631</td>\n",
       "      <td>0.049357</td>\n",
       "      <td>0.051258</td>\n",
       "      <td>1.043160</td>\n",
       "      <td>2.00735</td>\n",
       "      <td>0.139797</td>\n",
       "      <td>54.00640</td>\n",
       "    </tr>\n",
       "    <tr>\n",
       "      <th>delta</th>\n",
       "      <td>0.027669</td>\n",
       "      <td>0.027104</td>\n",
       "      <td>0.038407</td>\n",
       "      <td>-0.039973</td>\n",
       "      <td>0.049391</td>\n",
       "      <td>0.051389</td>\n",
       "      <td>2.00788</td>\n",
       "      <td>0.139834</td>\n",
       "      <td>36.81500</td>\n",
       "    </tr>\n",
       "    <tr>\n",
       "      <th>gamma</th>\n",
       "      <td>0.483299</td>\n",
       "      <td>0.252355</td>\n",
       "      <td>0.361095</td>\n",
       "      <td>-0.134067</td>\n",
       "      <td>0.658294</td>\n",
       "      <td>0.791757</td>\n",
       "      <td>2.04748</td>\n",
       "      <td>0.142592</td>\n",
       "      <td>6.65533</td>\n",
       "    </tr>\n",
       "  </tbody>\n",
       "</table>\n",
       "</div>"
      ],
      "text/plain": [
       "           Mean      MCSE    StdDev        5%       50%       95%    N_Eff  \\\n",
       "alpha  0.101465  0.736660  1.043940 -0.570700 -0.480258  1.908170  2.00824   \n",
       "beta   0.295267  0.299004  0.423631  0.049357  0.051258  1.043160  2.00735   \n",
       "delta  0.027669  0.027104  0.038407 -0.039973  0.049391  0.051389  2.00788   \n",
       "gamma  0.483299  0.252355  0.361095 -0.134067  0.658294  0.791757  2.04748   \n",
       "\n",
       "        N_Eff/s     R_hat  \n",
       "alpha  0.139859  28.35380  \n",
       "beta   0.139797  54.00640  \n",
       "delta  0.139834  36.81500  \n",
       "gamma  0.142592   6.65533  "
      ]
     },
     "execution_count": 43,
     "metadata": {},
     "output_type": "execute_result"
    }
   ],
   "source": [
    "posterior_full.summary().loc[('alpha', 'beta', 'delta', 'gamma'),]"
   ]
  },
  {
   "cell_type": "markdown",
   "metadata": {},
   "source": [
    "Giving bounds not only makes assures reasonable estimates but also shortens computation time in most cases. Total sampling time for `data2draws_model_full` is 2:30 min while `data2draws_model` (without bound) is 2:48 min; the gap may increase with larger number of estimated parameters."
   ]
  },
  {
   "cell_type": "code",
   "execution_count": 49,
   "metadata": {
    "scrolled": true
   },
   "outputs": [
    {
     "data": {
      "text/plain": [
       "array([<AxesSubplot: xlabel='prey / prey'>,\n",
       "       <AxesSubplot: xlabel='predator / predator'>], dtype=object)"
      ]
     },
     "execution_count": 49,
     "metadata": {},
     "output_type": "execute_result"
    },
    {
     "data": {
      "image/png": "[encoded data removed]",
      "text/plain": [
       "<Figure size 1200x600 with 2 Axes>"
      ]
     },
     "metadata": {},
     "output_type": "display_data"
    }
   ],
   "source": [
    "idata = az.from_cmdstanpy(\n",
    "    posterior=posterior_full, \n",
    "    posterior_predictive=[\"predator\",\"prey\"], \n",
    "    log_likelihood= [\"log_lik\"],\n",
    "    observed_data = {\"prey\": obs_stock_df.loc[:, (\"Prey\")], \"predator\": obs_stock_df.loc[:, (\"Predator\")]}\n",
    ")\n",
    "az.plot_ppc(idata, alpha=0.03, figsize=(12, 6))"
   ]
  },
  {
   "cell_type": "markdown",
   "metadata": {},
   "source": [
    "For some reason, Stan gives a warning (based on loglikelihood) that the fit is very bad."
   ]
  },
  {
   "cell_type": "code",
   "execution_count": 50,
   "metadata": {
    "scrolled": true
   },
   "outputs": [
    {
     "name": "stderr",
     "output_type": "stream",
     "text": [
      "/Library/Frameworks/Python.framework/Versions/3.10/lib/python3.10/site-packages/arviz/stats/stats.py:812: UserWarning: Estimated shape parameter of Pareto distribution is greater than 0.7 for one or more samples. You should consider using a more robust model, this is because importance sampling is less likely to work well if the marginal posterior and LOO posterior are very different. This is more likely to happen with a non-robust model and highly influential observations.\n",
      "  warnings.warn(\n"
     ]
    },
    {
     "data": {
      "text/plain": [
       "Computed from 4000 posterior samples and 1.0 observations log-likelihood matrix.\n",
       "\n",
       "         Estimate       SE\n",
       "elpd_loo      nan      nan\n",
       "p_loo         nan        -\n",
       "\n",
       "There has been a warning during the calculation. Please check the results.\n",
       "------\n",
       "\n",
       "Pareto k diagnostic values:\n",
       "                         Count   Pct.\n",
       "(-Inf, 0.5]   (good)        0    0.0%\n",
       " (0.5, 0.7]   (ok)          0    0.0%\n",
       "   (0.7, 1]   (bad)         0    0.0%\n",
       "   (1, Inf)   (very bad)    1  100.0%"
      ]
     },
     "execution_count": 50,
     "metadata": {},
     "output_type": "execute_result"
    }
   ],
   "source": [
    "az.loo(idata)"
   ]
  },
  {
   "cell_type": "markdown",
   "metadata": {},
   "source": []
  },
  {
   "cell_type": "markdown",
   "metadata": {
    "pycharm": {
     "name": "#%%\n"
    }
   },
   "source": [
    "## TODO 3. draws2data2draws: simulation-based calibration"
   ]
  },
  {
   "cell_type": "markdown",
   "metadata": {},
   "source": [
    "## Stan code"
   ]
  },
  {
   "cell_type": "code",
   "execution_count": 35,
   "metadata": {},
   "outputs": [
    {
     "name": "stdout",
     "output_type": "stream",
     "text": [
      "functions{\n",
      "#include prey-predator_functions.stan\n",
      "}\n",
      "data{\n",
      "    int n_t;\n",
      "}\n",
      "\n",
      "transformed data{\n",
      "    real initial_time = 0.0;\n",
      "    array[n_t] real times = {1, 2, 3, 4, 5, 6, 7, 8, 9, 10, 11, 12, 13, 14, 15, 16, 17, 18, 19, 20};\n",
      "}\n",
      "\n",
      "\n",
      "generated quantities{\n",
      "    real alpha = normal_rng(0.8, 0.1);\n",
      "    real beta = normal_rng(0.05, 0.001);\n",
      "    real delta = normal_rng(0.05, 0.001);\n",
      "    real gamma = normal_rng(0.8, 0.1);\n",
      "    real sigma = lognormal_rng(-6.907755278982137, 0.001);\n",
      "\n",
      "    // Initial ODE values\n",
      "    real prey__init = 30;\n",
      "    real predator__init = 4;\n",
      "\n",
      "    vector[2] initial_outcome;  // Initial ODE state vector\n",
      "    initial_outcome[1] = prey__init;\n",
      "    initial_outcome[2] = predator__init;\n",
      "\n",
      "    vector[2] integrated_result[n_t] = ode_rk45(vensim_ode_func, initial_outcome, initial_time, times, delta, beta, alpha, gamma);\n",
      "    array[n_t] real prey = integrated_result[:, 1];\n",
      "    array[n_t] real predator = integrated_result[:, 2];\n",
      "\n",
      "    vector[20] predator_obs = to_vector(lognormal_rng(predator, sigma));\n",
      "    vector[20] prey_obs = to_vector(lognormal_rng(prey, sigma));\n",
      "}\n",
      "\n",
      "functions{\n",
      "    #include prey-predator_functions.stan\n",
      "}\n",
      "\n",
      "data{\n",
      "    int n_obs_state;\n",
      "    int n_t;\n",
      "    vector[20] predator_obs;\n",
      "    vector[20] prey_obs;\n",
      "}\n",
      "\n",
      "transformed data{\n",
      "    real initial_time = 0.0;\n",
      "    array[n_t] real times = {1, 2, 3, 4, 5, 6, 7, 8, 9, 10, 11, 12, 13, 14, 15, 16, 17, 18, 19, 20};\n",
      "}\n",
      "\n",
      "parameters{\n",
      "    real alpha;\n",
      "    real gamma;\n",
      "    real beta;\n",
      "    real delta;\n",
      "    real sigma;\n",
      "}\n",
      "\n",
      "transformed parameters {\n",
      "    // Initial ODE values\n",
      "    real predator__init = 4;\n",
      "    real prey__init = 30;\n",
      "\n",
      "    vector[2] initial_outcome;  // Initial ODE state vector\n",
      "    initial_outcome[1] = predator__init;\n",
      "    initial_outcome[2] = prey__init;\n",
      "\n",
      "    vector[2] integrated_result[n_t] = ode_rk45(vensim_ode_func, initial_outcome, initial_time, times, gamma, beta, delta, alpha);\n",
      "    array[n_t] real predator = integrated_result[:, 1];\n",
      "    array[n_t] real prey = integrated_result[:, 2];\n",
      "}\n",
      "\n",
      "model{\n",
      "    alpha ~ normal(0.8, 0.1);\n",
      "    gamma ~ normal(0.8, 0.1);\n",
      "    beta ~ normal(0.05, 0.001);\n",
      "    delta ~ normal(0.05, 0.001);\n",
      "    sigma ~ lognormal(-4.605170185988091, 0.1);\n",
      "    predator_obs ~ lognormal(predator, sigma);\n",
      "    prey_obs ~ lognormal(prey, sigma);\n",
      "}\n",
      "\n",
      "generated quantities{\n",
      "    real log_lik;\n",
      "    vector[n_t] predator_tilde = to_vector(lognormal_rng(predator, sigma));\n",
      "    vector[n_t] prey_tilde = to_vector(lognormal_rng(prey, sigma));\n",
      "\n",
      "    log_lik += lognormal_lpdf(predator_obs|predator, sigma);\n",
      "    log_lik += lognormal_lpdf(predator_obs|predator, sigma);\n",
      "}\n"
     ]
    }
   ],
   "source": [
    "print(draws2data_model.code())\n",
    "print(data2draws_model_full.code())"
   ]
  },
  {
   "cell_type": "code",
   "execution_count": null,
   "metadata": {},
   "outputs": [],
   "source": []
  }
 ],
 "metadata": {
  "kernelspec": {
   "display_name": "Python 3 (ipykernel)",
   "language": "python",
   "name": "python3"
  },
  "language_info": {
   "codemirror_mode": {
    "name": "ipython",
    "version": 3
   },
   "file_extension": ".py",
   "mimetype": "text/x-python",
   "name": "python",
   "nbconvert_exporter": "python",
   "pygments_lexer": "ipython3",
   "version": "3.10.4"
  }
 },
 "nbformat": 4,
 "nbformat_minor": 1
}
