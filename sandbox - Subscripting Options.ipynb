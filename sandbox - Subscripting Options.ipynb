{
 "cells": [
  {
   "cell_type": "markdown",
   "metadata": {},
   "source": [
    "# Sandbox\n",
    "For playing around during development."
   ]
  },
  {
   "cell_type": "code",
   "execution_count": 1,
   "metadata": {
    "collapsed": false
   },
   "outputs": [
    {
     "name": "stdout",
     "output_type": "stream",
     "text": [
      "Populating the interactive namespace from numpy and matplotlib\n"
     ]
    },
    {
     "ename": "ImportError",
     "evalue": "No module named pysd",
     "output_type": "error",
     "traceback": [
      "\u001b[0;31m---------------------------------------------------------------------------\u001b[0m",
      "\u001b[0;31mImportError\u001b[0m                               Traceback (most recent call last)",
      "\u001b[0;32m<ipython-input-1-c431416eff42>\u001b[0m in \u001b[0;36m<module>\u001b[0;34m()\u001b[0m\n\u001b[1;32m      1\u001b[0m \u001b[0mget_ipython\u001b[0m\u001b[0;34m(\u001b[0m\u001b[0;34m)\u001b[0m\u001b[0;34m.\u001b[0m\u001b[0mmagic\u001b[0m\u001b[0;34m(\u001b[0m\u001b[0;34mu'pylab inline'\u001b[0m\u001b[0;34m)\u001b[0m\u001b[0;34m\u001b[0m\u001b[0m\n\u001b[0;32m----> 2\u001b[0;31m \u001b[0;32mimport\u001b[0m \u001b[0mpysd\u001b[0m\u001b[0;34m\u001b[0m\u001b[0m\n\u001b[0m\u001b[1;32m      3\u001b[0m \u001b[0;32mprint\u001b[0m \u001b[0mpysd\u001b[0m\u001b[0;34m.\u001b[0m\u001b[0m__version__\u001b[0m\u001b[0;34m\u001b[0m\u001b[0m\n\u001b[1;32m      4\u001b[0m \u001b[0;32mprint\u001b[0m \u001b[0mpysd\u001b[0m\u001b[0;34m.\u001b[0m\u001b[0m__file__\u001b[0m\u001b[0;34m\u001b[0m\u001b[0m\n\u001b[1;32m      5\u001b[0m \u001b[0;32mimport\u001b[0m \u001b[0mpandas\u001b[0m \u001b[0;32mas\u001b[0m \u001b[0mpd\u001b[0m\u001b[0;34m\u001b[0m\u001b[0m\n",
      "\u001b[0;32m/Users/houghton/Google_Drive/Academic Projects/PYSD/pysd/pysd/__init__.py\u001b[0m in \u001b[0;36m<module>\u001b[0;34m()\u001b[0m\n\u001b[0;32m----> 1\u001b[0;31m \u001b[0;32mfrom\u001b[0m \u001b[0;34m.\u001b[0m\u001b[0mpysd\u001b[0m \u001b[0;32mimport\u001b[0m \u001b[0mread_xmile\u001b[0m\u001b[0;34m,\u001b[0m \u001b[0mread_vensim\u001b[0m\u001b[0;34m,\u001b[0m \u001b[0mload\u001b[0m\u001b[0;34m\u001b[0m\u001b[0m\n\u001b[0m\u001b[1;32m      2\u001b[0m \u001b[0;32mfrom\u001b[0m \u001b[0;34m.\u001b[0m\u001b[0mpysd\u001b[0m \u001b[0;32mimport\u001b[0m \u001b[0mPySD\u001b[0m\u001b[0;34m\u001b[0m\u001b[0m\n\u001b[1;32m      3\u001b[0m \u001b[0;32mfrom\u001b[0m \u001b[0;34m.\u001b[0m\u001b[0m_version\u001b[0m \u001b[0;32mimport\u001b[0m \u001b[0m__version__\u001b[0m\u001b[0;34m\u001b[0m\u001b[0m\n",
      "\u001b[0;32m/Users/houghton/Google_Drive/Academic Projects/PYSD/pysd/pysd/pysd.py\u001b[0m in \u001b[0;36m<module>\u001b[0;34m()\u001b[0m\n\u001b[1;32m      7\u001b[0m \u001b[0;34m\u001b[0m\u001b[0m\n\u001b[1;32m      8\u001b[0m \u001b[0;31m#pysd specific imports\u001b[0m\u001b[0;34m\u001b[0m\u001b[0;34m\u001b[0m\u001b[0m\n\u001b[0;32m----> 9\u001b[0;31m \u001b[0;32mimport\u001b[0m \u001b[0mtranslators\u001b[0m \u001b[0;32mas\u001b[0m \u001b[0m_translators\u001b[0m\u001b[0;34m\u001b[0m\u001b[0m\n\u001b[0m\u001b[1;32m     10\u001b[0m \u001b[0;34m\u001b[0m\u001b[0m\n\u001b[1;32m     11\u001b[0m \u001b[0;31m#third party imports\u001b[0m\u001b[0;34m\u001b[0m\u001b[0;34m\u001b[0m\u001b[0m\n",
      "\u001b[0;32m/Users/houghton/Google_Drive/Academic Projects/PYSD/pysd/pysd/translators/__init__.py\u001b[0m in \u001b[0;36m<module>\u001b[0;34m()\u001b[0m\n\u001b[1;32m      1\u001b[0m \u001b[0;32mfrom\u001b[0m \u001b[0;34m.\u001b[0m\u001b[0mXMILE2Py\u001b[0m \u001b[0;32mimport\u001b[0m \u001b[0mtranslate_xmile\u001b[0m\u001b[0;34m\u001b[0m\u001b[0m\n\u001b[0;32m----> 2\u001b[0;31m \u001b[0;32mfrom\u001b[0m \u001b[0;34m.\u001b[0m\u001b[0mvensim2py\u001b[0m \u001b[0;32mimport\u001b[0m \u001b[0mtranslate_vensim\u001b[0m\u001b[0;34m\u001b[0m\u001b[0m\n\u001b[0m",
      "\u001b[0;32m/Users/houghton/Google_Drive/Academic Projects/PYSD/pysd/pysd/translators/vensim2py.py\u001b[0m in \u001b[0;36m<module>\u001b[0;34m()\u001b[0m\n\u001b[1;32m      6\u001b[0m \u001b[0;34m\u001b[0m\u001b[0m\n\u001b[1;32m      7\u001b[0m \u001b[0;32mfrom\u001b[0m \u001b[0mANTLR_collection\u001b[0m\u001b[0;34m.\u001b[0m\u001b[0mCompiled\u001b[0m\u001b[0;34m.\u001b[0m\u001b[0mPython_Vensim\u001b[0m \u001b[0;32mimport\u001b[0m \u001b[0mModelVisitor\u001b[0m \u001b[0;32mas\u001b[0m \u001b[0mvmdl\u001b[0m\u001b[0;34m\u001b[0m\u001b[0m\n\u001b[0;32m----> 8\u001b[0;31m \u001b[0;32mfrom\u001b[0m \u001b[0;34m.\u001b[0m\u001b[0mpysd\u001b[0m \u001b[0;32mimport\u001b[0m \u001b[0mbuilder\u001b[0m\u001b[0;34m\u001b[0m\u001b[0m\n\u001b[0m\u001b[1;32m      9\u001b[0m \u001b[0;34m\u001b[0m\u001b[0m\n\u001b[1;32m     10\u001b[0m \u001b[0;34m\u001b[0m\u001b[0m\n",
      "\u001b[0;31mImportError\u001b[0m: No module named pysd"
     ]
    }
   ],
   "source": [
    "%pylab inline\n",
    "import pysd\n",
    "print pysd.__version__\n",
    "print pysd.__file__\n",
    "import pandas as pd"
   ]
  },
  {
   "cell_type": "markdown",
   "metadata": {
    "collapsed": false
   },
   "source": [
    "# Testing various subscript Options\n"
   ]
  },
  {
   "cell_type": "code",
   "execution_count": 2,
   "metadata": {
    "collapsed": true
   },
   "outputs": [],
   "source": [
    "from __future__ import division \n",
    "import numpy as np \n",
    "from pysd import functions\n",
    "from scipy.integrate import odeint\n",
    "import itertools"
   ]
  },
  {
   "cell_type": "markdown",
   "metadata": {},
   "source": [
    "### option 1: unnamed array"
   ]
  },
  {
   "cell_type": "code",
   "execution_count": 3,
   "metadata": {
    "collapsed": false
   },
   "outputs": [],
   "source": [
    "class MinModel(object):\n",
    "    ##########  boilerplate stuff from the existing pysd #########\n",
    "    def __init__(self):\n",
    "        self._stocknames = [name[:-5] for name in dir(self) if name[-5:] == '_init']\n",
    "        self._stocknames.sort() #inplace\n",
    "        self._dfuncs = [getattr(self, 'd%s_dt'%name) for name in self._stocknames]\n",
    "        self.state = dict(zip(self._stocknames, [None]*len(self._stocknames)))\n",
    "        self.reset_state()\n",
    "        self.functions = functions.Functions(self)\n",
    "\n",
    "    def reset_state(self):\n",
    "        \"\"\"Sets the model state to the state described in the model file. \"\"\"\n",
    "        self.t = self.initial_time() #set the initial time\n",
    "        retry_flag = False\n",
    "        for key in self.state.keys():\n",
    "            try:\n",
    "                self.state[key] = eval('self.'+key+'_init()') #set the initial state\n",
    "            except TypeError:\n",
    "                retry_flag = True\n",
    "        if retry_flag:\n",
    "            self.reset_state() #potential for infinite loop!\n",
    "\n",
    "    ########### Stuff we have to modify to make subscripts work #########\n",
    "    def d_dt(self, state_vector, t):\n",
    "        \"\"\"The primary purpose of this function is to interact with the integrator.\n",
    "        It takes a state vector, sets the state of the system based on that vector,\n",
    "        and returns a derivative of the state vector\n",
    "        \"\"\"        \n",
    "        self.set_state(state_vector)\n",
    "        self.t = t\n",
    "        \n",
    "        derivative_vector = []\n",
    "        for func in self._dfuncs:\n",
    "            derivative_vector += list(func())\n",
    "            \n",
    "        return derivative_vector\n",
    "\n",
    "    def set_state(self, state_vector):\n",
    "        i = 0\n",
    "        for key in self._stocknames:\n",
    "            if isinstance(self.state[key], np.ndarray):\n",
    "                size = self.state[key].size\n",
    "                elements = state_vector[i:i+size]\n",
    "                shape = self.state[key].shape\n",
    "                self.state[key] = np.array(elements).reshape(shape)\n",
    "                i += size\n",
    "            else:\n",
    "                self.state[key] = state_vector[i]\n",
    "                i += 1\n",
    "\n",
    "        \n",
    "    def get_state(self):\n",
    "        #if we keep this, we should make it fully a list comprehension\n",
    "        state_vector = []\n",
    "        for item in [self.state[key] for key in self._stocknames]:\n",
    "            if isinstance(item, np.ndarray):\n",
    "                state_vector += list(item.flatten())\n",
    "            else:\n",
    "                state_vector += list(item)\n",
    "        return state_vector\n",
    "    \n",
    "    \n",
    "    ######### model specific components (that go in the model file)\n",
    "    suba_list = ['suba1', 'suba2', 'suba3']\n",
    "    subb_list = ['suba2', 'subb2']\n",
    "    suba_index = dict(zip(suba_list, range(len(suba_list))))\n",
    "    subb_index = dict(zip(subb_list, range(len(subb_list))))\n",
    "    \n",
    "    def stock(self, suba, subb):\n",
    "        return self.state['stock'][self.suba_index[suba]][self.subb_index[subb]] \n",
    "    \n",
    "    def stock_init(self):\n",
    "        return np.array([[1,1],[1,1],[1,1]])\n",
    "    \n",
    "    def dstock_dt(self):\n",
    "        return [self.flow(suba, subb) for suba, subb in itertools.product(self.suba_list, self.subb_list)]\n",
    "    \n",
    "    def constant(self, suba, subb):\n",
    "        return self.constant.values[self.suba_index[suba]][self.subb_index[subb]]\n",
    "    constant.values = np.array([[1,2],[3,4],[5,6]])\n",
    "    \n",
    "    def flow(self, suba, subb):\n",
    "        return self.constant(suba, subb) * self.stock(suba, subb)\n",
    "    \n",
    "    def initial_time(self):\n",
    "        return 0"
   ]
  },
  {
   "cell_type": "code",
   "execution_count": 4,
   "metadata": {
    "collapsed": false
   },
   "outputs": [],
   "source": [
    "a = MinModel()"
   ]
  },
  {
   "cell_type": "code",
   "execution_count": 5,
   "metadata": {
    "collapsed": false
   },
   "outputs": [
    {
     "name": "stdout",
     "output_type": "stream",
     "text": [
      "100 loops, best of 3: 16.4 ms per loop\n"
     ]
    }
   ],
   "source": [
    "%%timeit\n",
    "a.reset_state()\n",
    "odeint(a.d_dt, a.get_state(), range(10))"
   ]
  },
  {
   "cell_type": "code",
   "execution_count": 6,
   "metadata": {
    "collapsed": false,
    "scrolled": true
   },
   "outputs": [
    {
     "name": "stdout",
     "output_type": "stream",
     "text": [
      " "
     ]
    }
   ],
   "source": [
    "%%prun\n",
    "odeint(a.d_dt, a.get_state(), range(10))"
   ]
  },
  {
   "cell_type": "markdown",
   "metadata": {
    "collapsed": true
   },
   "source": [
    "### option 2: xray's `DataArray`"
   ]
  },
  {
   "cell_type": "code",
   "execution_count": 7,
   "metadata": {
    "collapsed": false
   },
   "outputs": [],
   "source": [
    "from xray import DataArray\n",
    "\n",
    "class xMinModel(object):\n",
    "    ##########  boilerplate stuff from the existing pysd #########\n",
    "    def __init__(self):\n",
    "        self._stocknames = [name[:-5] for name in dir(self) if name[-5:] == '_init']\n",
    "        self._stocknames.sort() #inplace\n",
    "        self._dfuncs = [getattr(self, 'd%s_dt'%name) for name in self._stocknames]\n",
    "        self.state = dict(zip(self._stocknames, [None]*len(self._stocknames)))\n",
    "        self.reset_state()\n",
    "        self.functions = functions.Functions(self)\n",
    "\n",
    "    def reset_state(self):\n",
    "        \"\"\"Sets the model state to the state described in the model file. \"\"\"\n",
    "        self.t = self.initial_time() #set the initial time\n",
    "        retry_flag = False\n",
    "        for key in self.state.keys():\n",
    "            try:\n",
    "                self.state[key] = eval('self.'+key+'_init()') #set the initial state\n",
    "            except TypeError:\n",
    "                retry_flag = True\n",
    "        if retry_flag:\n",
    "            self.reset_state() #potential for infinite loop!\n",
    "\n",
    "    ########### Stuff we have to modify to make subscripts work #########\n",
    "    def d_dt(self, state_vector, t):\n",
    "        \"\"\"The primary purpose of this function is to interact with the integrator.\n",
    "        It takes a state vector, sets the state of the system based on that vector,\n",
    "        and returns a derivative of the state vector\n",
    "        \"\"\"        \n",
    "        self.set_state(state_vector)\n",
    "        self.t = t\n",
    "        \n",
    "        derivative_vector = []\n",
    "        for func in self._dfuncs:\n",
    "            derivative_vector += list(func())\n",
    "            \n",
    "        return derivative_vector\n",
    "\n",
    "    def set_state(self, state_vector):\n",
    "        i = 0\n",
    "        for key in self._stocknames:\n",
    "            if isinstance(self.state[key], DataArray):\n",
    "                shape = self.state[key].shape\n",
    "                size = self.state[key].size\n",
    "                self.state[key].loc[:,:].values = np.array(state_vector[i:i+size]).reshape(shape)\n",
    "                i += size\n",
    "            else:\n",
    "                self.state[key] = state_vector[i]\n",
    "                i += 1\n",
    "        \n",
    "    def get_state(self):\n",
    "        #if we keep this, we should make it fully a list comprehension\n",
    "        state_vector = []\n",
    "        for item in [self.state[key] for key in self._stocknames]:\n",
    "            if isinstance(item, DataArray):\n",
    "                state_vector += list(item.values.flatten())\n",
    "            else:\n",
    "                state_vector += list(item)\n",
    "        return state_vector\n",
    "    \n",
    "    \n",
    "    ######### model specific components (that go in the model file)\n",
    "    dim_dict = {'suba': ['subb1', 'subb2'],\n",
    "                'subb': ['suba1', 'suba2', 'suba3']}\n",
    "    \n",
    "    def stock(self, suba, subb):\n",
    "        return self.state['stock'].loc[suba, subb].values\n",
    "    \n",
    "    def stock_init(self):\n",
    "        return DataArray([[1,1],[1,1],[1,1]], self.dim_dict)\n",
    "    \n",
    "    def dstock_dt(self):\n",
    "        return [self.flow(suba, subb) for suba, subb in itertools.product(*self.dim_dict.values())]\n",
    "    \n",
    "    def constant(self, suba, subb):\n",
    "        #values = DataArray([[1,2],[3,4],[5,6]], self.dim_dict)\n",
    "        return self.constant.values.loc[suba, subb].values\n",
    "    constant.values = DataArray([[1,2],[3,4],[5,6]], dim_dict)\n",
    "    \n",
    "    def flow(self, suba, subb):\n",
    "        return self.constant(suba, subb) * self.stock(suba, subb)\n",
    "    \n",
    "    def initial_time(self):\n",
    "        return 0"
   ]
  },
  {
   "cell_type": "code",
   "execution_count": 8,
   "metadata": {
    "collapsed": false
   },
   "outputs": [],
   "source": [
    "a = xMinModel()"
   ]
  },
  {
   "cell_type": "code",
   "execution_count": 9,
   "metadata": {
    "collapsed": false
   },
   "outputs": [
    {
     "name": "stdout",
     "output_type": "stream",
     "text": [
      "10 loops, best of 3: 35.2 ms per loop\n"
     ]
    }
   ],
   "source": [
    "%%timeit\n",
    "a.reset_state()\n",
    "odeint(a.d_dt, a.get_state(), range(10))"
   ]
  },
  {
   "cell_type": "code",
   "execution_count": 10,
   "metadata": {
    "collapsed": false,
    "scrolled": true
   },
   "outputs": [
    {
     "name": "stdout",
     "output_type": "stream",
     "text": [
      " "
     ]
    }
   ],
   "source": [
    "%%prun\n",
    "odeint(a.d_dt, a.get_state(), range(10))"
   ]
  },
  {
   "cell_type": "markdown",
   "metadata": {},
   "source": [
    "# Option 3\n",
    "\n",
    "Instead of calling the functions each time for each value of the subscript, can we call a function once, and get all of the values? Then we're doing array mathematics instead of a bunch of one-off multiplication.\n",
    "\n",
    "This is nice, and faster, but i'm not sure how we would scale it to deal with elements with different functions."
   ]
  },
  {
   "cell_type": "code",
   "execution_count": 11,
   "metadata": {
    "collapsed": true
   },
   "outputs": [],
   "source": [
    "class fMinModel(object):\n",
    "    ##########  boilerplate stuff from the existing pysd #########\n",
    "    def __init__(self):\n",
    "        self._stocknames = [name[:-5] for name in dir(self) if name[-5:] == '_init']\n",
    "        self._stocknames.sort() #inplace\n",
    "        self._dfuncs = [getattr(self, 'd%s_dt'%name) for name in self._stocknames]\n",
    "        self.state = dict(zip(self._stocknames, [None]*len(self._stocknames)))\n",
    "        self.reset_state()\n",
    "        self.functions = functions.Functions(self)\n",
    "\n",
    "    def reset_state(self):\n",
    "        \"\"\"Sets the model state to the state described in the model file. \"\"\"\n",
    "        self.t = self.initial_time() #set the initial time\n",
    "        retry_flag = False\n",
    "        for key in self.state.keys():\n",
    "            try:\n",
    "                self.state[key] = eval('self.'+key+'_init()') #set the initial state\n",
    "            except TypeError:\n",
    "                retry_flag = True\n",
    "        if retry_flag:\n",
    "            self.reset_state() #potential for infinite loop!\n",
    "\n",
    "    ########### Stuff we have to modify to make subscripts work #########\n",
    "    def d_dt(self, state_vector, t):\n",
    "        \"\"\"The primary purpose of this function is to interact with the integrator.\n",
    "        It takes a state vector, sets the state of the system based on that vector,\n",
    "        and returns a derivative of the state vector\n",
    "        \"\"\"        \n",
    "        self.set_state(state_vector)\n",
    "        self.t = t\n",
    "        \n",
    "        derivative_vector = []\n",
    "        for func in self._dfuncs:\n",
    "            res = func()\n",
    "            if isinstance(res, np.ndarray):\n",
    "                res = res.flatten()\n",
    "            derivative_vector += list(res)\n",
    "            \n",
    "        return derivative_vector\n",
    "\n",
    "    def set_state(self, state_vector):\n",
    "        i = 0\n",
    "        for key in self._stocknames:\n",
    "            \n",
    "            if isinstance(self.state[key], np.ndarray):\n",
    "                size = self.state[key].size\n",
    "                elements = state_vector[i:i+size]\n",
    "                shape = self.state[key].shape\n",
    "                self.state[key] = np.array(elements).reshape(shape)\n",
    "                i += size\n",
    "            else:\n",
    "                self.state[key] = state_vector[i]\n",
    "                i += 1\n",
    "\n",
    "        \n",
    "    def get_state(self):\n",
    "        #if we keep this, we should make it fully a list comprehension\n",
    "        state_vector = []\n",
    "        for item in [self.state[key] for key in self._stocknames]:\n",
    "            if isinstance(item, np.ndarray):\n",
    "                state_vector += list(item.flatten())\n",
    "            else:\n",
    "                state_vector += list(item)\n",
    "        return state_vector\n",
    "    \n",
    "    \n",
    "    ######### model specific components (that go in the model file)\n",
    "    \n",
    "    def stock(self):\n",
    "        return self.state['stock']\n",
    "    \n",
    "    def stock_1d_sum(self):\n",
    "        return self.stock().sum(axis=1)\n",
    "    \n",
    "    def stock_1d_max(self):\n",
    "        return self.stock().max(axis=0)\n",
    "    \n",
    "    def stock_init(self):\n",
    "        return np.array([[1,1],[1,1],[1,1]])\n",
    "    \n",
    "    def dstock_dt(self):\n",
    "        return self.flow()\n",
    "    \n",
    "    def constant(self):\n",
    "        return np.array([[1,2],[3,4],[5,6]])\n",
    "    \n",
    "    def constant2(self):\n",
    "        return 6\n",
    "    \n",
    "    def flow(self):\n",
    "        return self.constant() * self.stock()\n",
    "    \n",
    "    def initial_time(self):\n",
    "        return 0"
   ]
  },
  {
   "cell_type": "code",
   "execution_count": 12,
   "metadata": {
    "collapsed": true
   },
   "outputs": [],
   "source": [
    "a = fMinModel()"
   ]
  },
  {
   "cell_type": "code",
   "execution_count": 13,
   "metadata": {
    "collapsed": false
   },
   "outputs": [
    {
     "name": "stdout",
     "output_type": "stream",
     "text": [
      "[1 1]\n",
      "[2 2 2]\n"
     ]
    }
   ],
   "source": [
    "print a.stock_1d_max()\n",
    "print a.stock_1d_sum()"
   ]
  },
  {
   "cell_type": "code",
   "execution_count": 14,
   "metadata": {
    "collapsed": false
   },
   "outputs": [
    {
     "name": "stdout",
     "output_type": "stream",
     "text": [
      "100 loops, best of 3: 8.51 ms per loop\n"
     ]
    }
   ],
   "source": [
    "%%timeit\n",
    "a.reset_state()\n",
    "odeint(a.d_dt, a.get_state(), range(10))"
   ]
  },
  {
   "cell_type": "markdown",
   "metadata": {},
   "source": [
    "### Option 4: xray's `DataArray` version of **Option 3**\n",
    "\n",
    "This is pretty much the `xray` equivalent of using Option 3"
   ]
  },
  {
   "cell_type": "code",
   "execution_count": 15,
   "metadata": {
    "collapsed": true
   },
   "outputs": [],
   "source": [
    "from xray import DataArray\n",
    "\n",
    "class xMinModel(object):\n",
    "    ##########  boilerplate stuff from the existing pysd #########\n",
    "    def __init__(self):\n",
    "        self._stocknames = [name[:-5] for name in dir(self) if name[-5:] == '_init']\n",
    "        self._stocknames.sort() #inplace\n",
    "        self._dfuncs = [getattr(self, 'd%s_dt'%name) for name in self._stocknames]\n",
    "        self.state = dict(zip(self._stocknames, [None]*len(self._stocknames)))\n",
    "        self.reset_state()\n",
    "        self.functions = functions.Functions(self)\n",
    "\n",
    "    def reset_state(self):\n",
    "        \"\"\"Sets the model state to the state described in the model file. \"\"\"\n",
    "        self.t = self.initial_time() #set the initial time\n",
    "        retry_flag = False\n",
    "        for key in self.state.keys():\n",
    "            try:\n",
    "                self.state[key] = eval('self.'+key+'_init()') #set the initial state\n",
    "            except TypeError:\n",
    "                retry_flag = True\n",
    "        if retry_flag:\n",
    "            self.reset_state() #potential for infinite loop!\n",
    "\n",
    "    ########### Stuff we have to modify to make subscripts work #########\n",
    "    def d_dt(self, state_vector, t):\n",
    "        \"\"\"The primary purpose of this function is to interact with the integrator.\n",
    "        It takes a state vector, sets the state of the system based on that vector,\n",
    "        and returns a derivative of the state vector\n",
    "        \"\"\"        \n",
    "        self.set_state(state_vector)\n",
    "        self.t = t\n",
    "        \n",
    "        derivative_vector = []\n",
    "        for func in self._dfuncs:\n",
    "            res = func()\n",
    "            if isinstance(res, DataArray):\n",
    "                res = res.values.flatten()\n",
    "            derivative_vector += list(res)\n",
    "            \n",
    "        return derivative_vector\n",
    "   \n",
    "    def set_state(self, state_vector):\n",
    "        i = 0\n",
    "        for key in self._stocknames:\n",
    "            if isinstance(self.state[key], DataArray):\n",
    "                shape = self.state[key].shape\n",
    "                size = self.state[key].size\n",
    "                self.state[key].loc[:,:].values = np.array(state_vector[i:i+size]).reshape(shape)\n",
    "                i += size\n",
    "            else:\n",
    "                self.state[key] = state_vector[i]\n",
    "                i += 1\n",
    "        \n",
    "    def get_state(self):\n",
    "        #if we keep this, we should make it fully a list comprehension\n",
    "        state_vector = []\n",
    "        for item in [self.state[key] for key in self._stocknames]:\n",
    "            if isinstance(item, DataArray):\n",
    "                state_vector += list(item.values.flatten())\n",
    "            else:\n",
    "                state_vector += list(item)\n",
    "        return state_vector\n",
    "    \n",
    "    \n",
    "    ######### model specific components (that go in the model file)\n",
    "    dim_dict = {'suba': ['subb1', 'subb2'],\n",
    "                'subb': ['suba1', 'suba2', 'suba3']}\n",
    "        \n",
    "    def stock(self):\n",
    "        return self.state['stock']\n",
    "    \n",
    "    def stock_1d_sum(self):\n",
    "        return self.stock().sum(dim='suba')\n",
    "    \n",
    "    def stock_1d_max(self):\n",
    "        return self.stock().max(dim='subb')\n",
    "    \n",
    "    def stock_init(self):\n",
    "        return DataArray([[1,1],[1,1],[1,1]], self.dim_dict)\n",
    "    \n",
    "    def dstock_dt(self):\n",
    "        return self.flow()\n",
    "    \n",
    "    def constant(self, *args):\n",
    "        return DataArray([[1,2],[3,4],[5,6]], self.dim_dict)\n",
    "    \n",
    "    def flow(self):\n",
    "        return self.constant() * self.stock()\n",
    "    \n",
    "    def initial_time(self):\n",
    "        return 0"
   ]
  },
  {
   "cell_type": "code",
   "execution_count": 16,
   "metadata": {
    "collapsed": false
   },
   "outputs": [],
   "source": [
    "a = xMinModel()"
   ]
  },
  {
   "cell_type": "code",
   "execution_count": 17,
   "metadata": {
    "collapsed": false
   },
   "outputs": [
    {
     "name": "stdout",
     "output_type": "stream",
     "text": [
      "<xray.DataArray (suba: 2)>\n",
      "array([1, 1])\n",
      "Coordinates:\n",
      "  * suba     (suba) |S5 'subb1' 'subb2'\n",
      "<xray.DataArray (subb: 3)>\n",
      "array([2, 2, 2])\n",
      "Coordinates:\n",
      "  * subb     (subb) |S5 'suba1' 'suba2' 'suba3'\n"
     ]
    }
   ],
   "source": [
    "print a.stock_1d_max()\n",
    "print a.stock_1d_sum()"
   ]
  },
  {
   "cell_type": "code",
   "execution_count": 18,
   "metadata": {
    "collapsed": false
   },
   "outputs": [
    {
     "name": "stdout",
     "output_type": "stream",
     "text": [
      "10 loops, best of 3: 21.2 ms per loop\n"
     ]
    }
   ],
   "source": [
    "%%timeit\n",
    "a.reset_state()\n",
    "odeint(a.d_dt, a.get_state(), range(10))"
   ]
  },
  {
   "cell_type": "code",
   "execution_count": 19,
   "metadata": {
    "collapsed": false
   },
   "outputs": [
    {
     "name": "stdout",
     "output_type": "stream",
     "text": [
      " "
     ]
    }
   ],
   "source": [
    "%%prun\n",
    "odeint(a.d_dt, a.get_state(), range(10))"
   ]
  },
  {
   "cell_type": "code",
   "execution_count": null,
   "metadata": {
    "collapsed": true
   },
   "outputs": [],
   "source": []
  }
 ],
 "metadata": {
  "kernelspec": {
   "display_name": "Python 2",
   "language": "python",
   "name": "python2"
  },
  "language_info": {
   "codemirror_mode": {
    "name": "ipython",
    "version": 2
   },
   "file_extension": ".py",
   "mimetype": "text/x-python",
   "name": "python",
   "nbconvert_exporter": "python",
   "pygments_lexer": "ipython2",
   "version": "2.7.11"
  }
 },
 "nbformat": 4,
 "nbformat_minor": 0
}
